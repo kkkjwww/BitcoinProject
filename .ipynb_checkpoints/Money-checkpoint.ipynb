{
 "cells": [
  {
   "cell_type": "markdown",
   "id": "662600a0-3273-41a3-89cc-a00dbb270729",
   "metadata": {},
   "source": [
    "## 환율 데이터 받아오기\n",
    "- 환율 데이터 출처\n",
    "- https://spot.wooribank.com/pot/Dream?withyou=FXXRT0014"
   ]
  },
  {
   "cell_type": "code",
   "execution_count": 1,
   "id": "fcd12337-eb27-4eaf-b741-714af486a4af",
   "metadata": {},
   "outputs": [],
   "source": [
    "import pandas as pd"
   ]
  },
  {
   "cell_type": "code",
   "execution_count": 2,
   "id": "ca3c0a4d-e47f-45fb-adb9-efadbed546e3",
   "metadata": {},
   "outputs": [],
   "source": [
    "# 데이터가 없는 날이 있기 때문에 그것을 채워준다.\n",
    "def manipulate_exchange_data(money, start, end):\n",
    "    start_date = start\n",
    "    end_date = end\n",
    "    \n",
    "    # 기간의 모든 날짜 생성\n",
    "    date_range = pd.date_range(start=start_date, end=end_date)\n",
    "    \n",
    "    # 데이터 프레임에 날짜 채워넣기\n",
    "    df_date = pd.DataFrame(date_range, columns=['일자'])\n",
    "    \n",
    "    # 원하는 형식으로 날짜 변환 (옵션)\n",
    "    df_date['일자'] = df_date['일자'].dt.strftime('%Y.%m.%d')\n",
    "    \n",
    "    # 모든 일자 데이터에 money 데이터 병합\n",
    "    money = df_date.merge(money, on='일자', how='left')\n",
    "    \n",
    "    # 바로 전 데이터로 결측값 채우기\n",
    "    money['기준환율'] = money['기준환율'].ffill().bfill()\n",
    "    \n",
    "    return money"
   ]
  },
  {
   "cell_type": "code",
   "execution_count": 3,
   "id": "c1f11a1e-9f0f-490a-a46f-4fa41c1f49c5",
   "metadata": {},
   "outputs": [],
   "source": [
    "money_2022 = pd.read_excel('DATA/환율_2022_수정전.xlsx')\n",
    "money_2023 = pd.read_excel('DATA/환율_2023_수정전.xlsx')"
   ]
  },
  {
   "cell_type": "code",
   "execution_count": 4,
   "id": "5eb7e455-54b5-40e1-994e-cb54dadab400",
   "metadata": {},
   "outputs": [],
   "source": [
    "money_2022 = money_2022[['일자', '기준환율']]\n",
    "money_2023 = money_2023[['일자', '기준환율']]"
   ]
  },
  {
   "cell_type": "code",
   "execution_count": 5,
   "id": "1a80a226-9d2a-439a-a2be-e507b37150bc",
   "metadata": {},
   "outputs": [],
   "source": [
    "money_2022 = manipulate_exchange_data(money_2022, '2022-01-01', '2022-12-31')\n",
    "money_2023 = manipulate_exchange_data(money_2023, '2023-01-01', '2023-12-31')"
   ]
  },
  {
   "cell_type": "code",
   "execution_count": 6,
   "id": "89212e76-864c-4c21-85fa-a61830fc8658",
   "metadata": {},
   "outputs": [
    {
     "name": "stdout",
     "output_type": "stream",
     "text": [
      "<class 'pandas.core.frame.DataFrame'>\n",
      "RangeIndex: 365 entries, 0 to 364\n",
      "Data columns (total 2 columns):\n",
      " #   Column  Non-Null Count  Dtype  \n",
      "---  ------  --------------  -----  \n",
      " 0   일자      365 non-null    object \n",
      " 1   기준환율    365 non-null    float64\n",
      "dtypes: float64(1), object(1)\n",
      "memory usage: 5.8+ KB\n"
     ]
    }
   ],
   "source": [
    "money_2022.info()"
   ]
  },
  {
   "cell_type": "code",
   "execution_count": 7,
   "id": "23b01e08-24c1-4ac1-b531-f3c73fe8a3e9",
   "metadata": {},
   "outputs": [
    {
     "name": "stdout",
     "output_type": "stream",
     "text": [
      "<class 'pandas.core.frame.DataFrame'>\n",
      "RangeIndex: 365 entries, 0 to 364\n",
      "Data columns (total 2 columns):\n",
      " #   Column  Non-Null Count  Dtype \n",
      "---  ------  --------------  ----- \n",
      " 0   일자      365 non-null    object\n",
      " 1   기준환율    365 non-null    object\n",
      "dtypes: object(2)\n",
      "memory usage: 5.8+ KB\n"
     ]
    }
   ],
   "source": [
    "money_2023.info()"
   ]
  },
  {
   "cell_type": "code",
   "execution_count": 8,
   "id": "618a5acc-dda2-41dd-a63a-9047b17b1095",
   "metadata": {},
   "outputs": [],
   "source": [
    "money_2023['기준환율'] = money_2023['기준환율'].str.replace(\",\", \"\")\n",
    "money_2023['기준환율'] = money_2023['기준환율'].astype('float')"
   ]
  },
  {
   "cell_type": "code",
   "execution_count": 9,
   "id": "618fbdac-0f78-4ebd-9685-3f329a07c0a8",
   "metadata": {},
   "outputs": [
    {
     "data": {
      "text/html": [
       "<div>\n",
       "<style scoped>\n",
       "    .dataframe tbody tr th:only-of-type {\n",
       "        vertical-align: middle;\n",
       "    }\n",
       "\n",
       "    .dataframe tbody tr th {\n",
       "        vertical-align: top;\n",
       "    }\n",
       "\n",
       "    .dataframe thead th {\n",
       "        text-align: right;\n",
       "    }\n",
       "</style>\n",
       "<table border=\"1\" class=\"dataframe\">\n",
       "  <thead>\n",
       "    <tr style=\"text-align: right;\">\n",
       "      <th></th>\n",
       "      <th>일자</th>\n",
       "      <th>기준환율</th>\n",
       "    </tr>\n",
       "  </thead>\n",
       "  <tbody>\n",
       "    <tr>\n",
       "      <th>0</th>\n",
       "      <td>2022.01.01</td>\n",
       "      <td>1185.5</td>\n",
       "    </tr>\n",
       "    <tr>\n",
       "      <th>1</th>\n",
       "      <td>2022.01.02</td>\n",
       "      <td>1185.5</td>\n",
       "    </tr>\n",
       "    <tr>\n",
       "      <th>2</th>\n",
       "      <td>2022.01.03</td>\n",
       "      <td>1185.5</td>\n",
       "    </tr>\n",
       "    <tr>\n",
       "      <th>3</th>\n",
       "      <td>2022.01.04</td>\n",
       "      <td>1190.8</td>\n",
       "    </tr>\n",
       "    <tr>\n",
       "      <th>4</th>\n",
       "      <td>2022.01.05</td>\n",
       "      <td>1194.3</td>\n",
       "    </tr>\n",
       "  </tbody>\n",
       "</table>\n",
       "</div>"
      ],
      "text/plain": [
       "           일자    기준환율\n",
       "0  2022.01.01  1185.5\n",
       "1  2022.01.02  1185.5\n",
       "2  2022.01.03  1185.5\n",
       "3  2022.01.04  1190.8\n",
       "4  2022.01.05  1194.3"
      ]
     },
     "execution_count": 9,
     "metadata": {},
     "output_type": "execute_result"
    }
   ],
   "source": [
    "money_2022.head()"
   ]
  },
  {
   "cell_type": "code",
   "execution_count": 10,
   "id": "a5207e8a-9c6b-4b87-9942-75396d657a3e",
   "metadata": {},
   "outputs": [
    {
     "data": {
      "text/html": [
       "<div>\n",
       "<style scoped>\n",
       "    .dataframe tbody tr th:only-of-type {\n",
       "        vertical-align: middle;\n",
       "    }\n",
       "\n",
       "    .dataframe tbody tr th {\n",
       "        vertical-align: top;\n",
       "    }\n",
       "\n",
       "    .dataframe thead th {\n",
       "        text-align: right;\n",
       "    }\n",
       "</style>\n",
       "<table border=\"1\" class=\"dataframe\">\n",
       "  <thead>\n",
       "    <tr style=\"text-align: right;\">\n",
       "      <th></th>\n",
       "      <th>일자</th>\n",
       "      <th>기준환율</th>\n",
       "    </tr>\n",
       "  </thead>\n",
       "  <tbody>\n",
       "    <tr>\n",
       "      <th>0</th>\n",
       "      <td>2023.01.01</td>\n",
       "      <td>1267.3</td>\n",
       "    </tr>\n",
       "    <tr>\n",
       "      <th>1</th>\n",
       "      <td>2023.01.02</td>\n",
       "      <td>1267.3</td>\n",
       "    </tr>\n",
       "    <tr>\n",
       "      <th>2</th>\n",
       "      <td>2023.01.03</td>\n",
       "      <td>1268.9</td>\n",
       "    </tr>\n",
       "    <tr>\n",
       "      <th>3</th>\n",
       "      <td>2023.01.04</td>\n",
       "      <td>1272.1</td>\n",
       "    </tr>\n",
       "    <tr>\n",
       "      <th>4</th>\n",
       "      <td>2023.01.05</td>\n",
       "      <td>1274.7</td>\n",
       "    </tr>\n",
       "  </tbody>\n",
       "</table>\n",
       "</div>"
      ],
      "text/plain": [
       "           일자    기준환율\n",
       "0  2023.01.01  1267.3\n",
       "1  2023.01.02  1267.3\n",
       "2  2023.01.03  1268.9\n",
       "3  2023.01.04  1272.1\n",
       "4  2023.01.05  1274.7"
      ]
     },
     "execution_count": 10,
     "metadata": {},
     "output_type": "execute_result"
    }
   ],
   "source": [
    "money_2023.head()"
   ]
  },
  {
   "cell_type": "code",
   "execution_count": 11,
   "id": "e91a3cf0-4c81-4035-9e27-d650b4154d41",
   "metadata": {},
   "outputs": [],
   "source": [
    "money_2022.to_csv('DATA/환율_2022.csv', index=False)\n",
    "money_2023.to_csv('DATA/환율_2023.csv', index=False)"
   ]
  },
  {
   "cell_type": "code",
   "execution_count": null,
   "id": "dd976685-48e8-42b2-b3d3-b891d390da80",
   "metadata": {},
   "outputs": [],
   "source": []
  }
 ],
 "metadata": {
  "kernelspec": {
   "display_name": "Python 3 (ipykernel)",
   "language": "python",
   "name": "python3"
  },
  "language_info": {
   "codemirror_mode": {
    "name": "ipython",
    "version": 3
   },
   "file_extension": ".py",
   "mimetype": "text/x-python",
   "name": "python",
   "nbconvert_exporter": "python",
   "pygments_lexer": "ipython3",
   "version": "3.11.5"
  }
 },
 "nbformat": 4,
 "nbformat_minor": 5
}
