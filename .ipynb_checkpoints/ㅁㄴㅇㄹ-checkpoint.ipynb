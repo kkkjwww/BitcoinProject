{
 "cells": [
  {
   "cell_type": "code",
   "execution_count": 15,
   "id": "eb189711-4498-4da2-bdfe-be579798671f",
   "metadata": {},
   "outputs": [],
   "source": [
    "import pandas as pd\n",
    "import numpy as np\n",
    "import matplotlib.pyplot as plt\n",
    "\n",
    "from binance.client import Client # 바이낸스\n",
    "\n",
    "plt.rc('font', family='Malgun Gothic')\n",
    "plt.rcParams['axes.unicode_minus'] = False"
   ]
  },
  {
   "cell_type": "raw",
   "id": "8c9be40d-e94c-4825-af45-a3112e10284d",
   "metadata": {},
   "source": [
    "ohlcv : open, high, low, close, volume\n",
    "open : 시가\n",
    "high : 고가\n",
    "low : 저가\n",
    "close : 종가\n",
    "volume : 거래량"
   ]
  },
  {
   "cell_type": "raw",
   "id": "0f135d52-7cfa-4fd3-9168-b548ce4eb4c1",
   "metadata": {},
   "source": [
    "!pip install ccxt"
   ]
  },
  {
   "cell_type": "raw",
   "id": "78a8b49a-a862-40c6-be18-1b3a4667b56a",
   "metadata": {
    "scrolled": true
   },
   "source": [
    "# 바이낸스\n",
    "import ccxt\n",
    "\n",
    "binance = ccxt.binance()\n",
    "btc_ohlcv = binance.fetch_ohlcv(\"BTC/USDT\", \"1m\")\n",
    "\n",
    "df = pd.DataFrame(btc_ohlcv, columns=['datetime', 'open', 'high', 'low', 'close', 'volume'])\n",
    "df['datetime'] = pd.to_datetime(df['datetime'], unit='ms')\n",
    "df.set_index('datetime', inplace=True)\n",
    "df"
   ]
  },
  {
   "cell_type": "raw",
   "id": "4df9d9cd-3d22-4ba1-99a9-5872d69295b8",
   "metadata": {},
   "source": [
    "!pip install python-binance"
   ]
  },
  {
   "cell_type": "markdown",
   "id": "c0b08133-7810-47ac-acd2-f9589f0735de",
   "metadata": {},
   "source": [
    "## 바이낸스 5분봉 데이터 받아오기"
   ]
  },
  {
   "cell_type": "code",
   "execution_count": 13,
   "id": "a1b6c6b8-e3ac-4d28-9940-9cf566a32cec",
   "metadata": {},
   "outputs": [],
   "source": [
    "# 바이낸스 5분봉\n",
    "def get_5m_binance(start, end):\n",
    "    \n",
    "    api_key = 'chvrgehW025fs9GMMbc301xLE32fGBQFFqeiHPxGaU9bzlZC0SxhZAJdSwX6IZRX'\n",
    "    api_secret = 'obYhSuVrsvR7vCzJUSRlLQOKyKf7WzkGsGGBZcsZrjgkQQakpdrZ57Dvt4TLEATR'\n",
    "    client = Client(api_key=api_key, api_secret=api_secret)\n",
    "    \n",
    "    minute = client.get_historical_klines(\n",
    "        symbol='BTCUSDT',\n",
    "        interval='5m',\n",
    "        start_str=start,\n",
    "        end_str=end\n",
    "        # limit=200 # max = 1000\n",
    "    )\n",
    "    \n",
    "    columns = ['Open time', 'Open', 'High', 'Low', 'Close',\n",
    "               'Volume', 'Close time', 'Quote asset volume', 'Number of trades',\n",
    "               'Taker buy base asset volume', 'Taker buy quote asset volume', 'Ignore']\n",
    "    \n",
    "    binance = pd.DataFrame(minute, columns=columns)\n",
    "    binance['Open time'] = pd.to_datetime(binance['Open time'], unit='ms')\n",
    "    \n",
    "    return binance"
   ]
  },
  {
   "cell_type": "code",
   "execution_count": 16,
   "id": "e0f77a70-5549-4991-aa5e-41d41abb716c",
   "metadata": {},
   "outputs": [],
   "source": [
    "binance_2022 = get_5m_binance('2022-01-01', '2023-01-01') # 2022년\n",
    "binance_2022 = binance_2022.drop(binance_2022.index[-1]) # 마지막 인덱스 제외('2023-01-01 00:00:00')\n",
    "binance_2022.to_csv('DATA/Binance_2022.csv', index=False) # csv 파일로 저장"
   ]
  },
  {
   "cell_type": "code",
   "execution_count": 17,
   "id": "92eedb9e-9fa6-4ae4-a310-2c74a00f6699",
   "metadata": {},
   "outputs": [],
   "source": [
    "binance_2023 = get_5m_binance('2023-01-01', '2024-01-01') # 2023년\n",
    "binance_2023 = binance_2023.drop(binance_2023.index[-1])\n",
    "binance_2023.to_csv('DATA/Binance_2022.csv', index=False)"
   ]
  },
  {
   "cell_type": "code",
   "execution_count": 47,
   "id": "75208ca0-fa6a-487c-a3be-bba3a31fe6f0",
   "metadata": {},
   "outputs": [],
   "source": [
    "binance_2022 = pd.read_csv('DATA/Binance_2022.csv')\n",
    "binance_2023 = pd.read_csv('DATA/Binance_2023.csv')"
   ]
  },
  {
   "cell_type": "code",
   "execution_count": 48,
   "id": "4f069cbb-ad41-4f6c-832f-3e6b6e1d0581",
   "metadata": {},
   "outputs": [
    {
     "name": "stdout",
     "output_type": "stream",
     "text": [
      "(105121, 12)\n",
      "(105104, 12)\n"
     ]
    }
   ],
   "source": [
    "# row 개수 15120개가 나와야 함\n",
    "print(binance_2022.shape)\n",
    "print(binance_2023.shape) # 2023년도 데이터가 모자르다"
   ]
  },
  {
   "cell_type": "markdown",
   "id": "5ac46aa2-ab6d-4454-8699-156219e088e7",
   "metadata": {},
   "source": [
    "## 2023년도 바이낸스 데이터 점검"
   ]
  },
  {
   "cell_type": "code",
   "execution_count": 45,
   "id": "f286bef9-8cbe-472a-8b13-20cd4e204987",
   "metadata": {},
   "outputs": [],
   "source": [
    "binance_2023['Open time'] = pd.to_datetime(binance_2023['Open time'])"
   ]
  },
  {
   "cell_type": "code",
   "execution_count": 46,
   "id": "7b80b587-a7b6-4f28-ae7b-3def262ab1a5",
   "metadata": {},
   "outputs": [],
   "source": [
    "binance_2023['month'] = binance_2023['Open time'].dt.month\n",
    "binance_2023['day'] = binance_2023['Open time'].dt.day\n",
    "binance_2023['hour'] = binance_2023['Open time'].dt.hour"
   ]
  },
  {
   "cell_type": "code",
   "execution_count": 47,
   "id": "f3539b8c-6556-4e20-9dc3-6c200ae50925",
   "metadata": {},
   "outputs": [
    {
     "data": {
      "text/plain": [
       "month  day\n",
       "3      24     272\n",
       "dtype: int64"
      ]
     },
     "execution_count": 47,
     "metadata": {},
     "output_type": "execute_result"
    }
   ],
   "source": [
    "check = binance_2023.groupby(['month', 'day']).size()\n",
    "check[check != 288] # 하루에 288개의 캔들이 나와야 한다."
   ]
  },
  {
   "cell_type": "code",
   "execution_count": 49,
   "id": "33cb480d-85ed-4e3c-8740-77455a609f97",
   "metadata": {
    "scrolled": true
   },
   "outputs": [
    {
     "data": {
      "text/plain": [
       "hour\n",
       "0     12\n",
       "1     12\n",
       "2     12\n",
       "3     12\n",
       "4     12\n",
       "5     12\n",
       "6     12\n",
       "7     12\n",
       "8     12\n",
       "9     12\n",
       "10    12\n",
       "11    12\n",
       "12     8\n",
       "14    12\n",
       "15    12\n",
       "16    12\n",
       "17    12\n",
       "18    12\n",
       "19    12\n",
       "20    12\n",
       "21    12\n",
       "22    12\n",
       "23    12\n",
       "dtype: int64"
      ]
     },
     "execution_count": 49,
     "metadata": {},
     "output_type": "execute_result"
    }
   ],
   "source": [
    "binance_3_24 = binance_2023[(binance_2023['month'] == 3) & (binance_2023['day'] == 24)]\n",
    "binance_3_24.groupby('hour').size()"
   ]
  },
  {
   "cell_type": "markdown",
   "id": "f6a3d3d8-59ac-451c-b25a-704ed55d6aa7",
   "metadata": {},
   "source": [
    "- 바이낸스 2023년도 데이터 부족한 이유 서칭\n",
    "- https://www.binance.com/en/support/announcement/binance-spot-trading-system-temporary-maintenance-complete-2023-03-24-813a31506e9f478ea8c1058b425df87a\n",
    "- binance 3월 24일 일시점검 14:00 거래 재개"
   ]
  },
  {
   "cell_type": "raw",
   "id": "15fa882a-f210-4433-91e8-f788a0604312",
   "metadata": {},
   "source": [
    "!pip install pyfairdesk"
   ]
  },
  {
   "cell_type": "raw",
   "id": "02f61521-5683-425f-9b6f-db891d8dfc33",
   "metadata": {
    "scrolled": true
   },
   "source": [
    "# 페어데스크\n",
    "import pprint\n",
    "import pyfairdesk\n",
    "import datetime\n",
    "import pandas as pd\n",
    "\n",
    "exchange = pyfairdesk.Fairdesk()\n",
    "\n",
    "start = datetime.datetime.strptime(\"2024-07-01\", \"%Y-%m-%d\")\n",
    "end = datetime.datetime.strptime(\"2024-07-02\", \"%Y-%m-%d\")\n",
    "from_ts = int(datetime.datetime.timestamp(start) * 1000)\n",
    "to_ts = int(datetime.datetime.timestamp(end) * 1000)\n",
    "\n",
    "resp = exchange.fetch_ohlcv(\n",
    "    symbol='btcusdt',\n",
    "    interval='1m',\n",
    "    from_ts=from_ts,\n",
    "    to_ts=to_ts,\n",
    "    limit=1000\n",
    ")\n",
    "\n",
    "data = resp['data']\n",
    "fairdesk = pd.DataFrame(data)\n",
    "dt = pd.to_datetime(fairdesk['openTime'], unit='ms')\n",
    "fairdesk.set_index(dt, inplace=True)\n",
    "fairdesk\n",
    "# fairdesk.head()"
   ]
  },
  {
   "cell_type": "markdown",
   "id": "5d3af6da-024d-4d2d-b48a-246680114713",
   "metadata": {},
   "source": [
    "## 업비트 데이터 받아오기"
   ]
  },
  {
   "cell_type": "code",
   "execution_count": 122,
   "id": "92fa446b-355f-4979-a0b8-d2df9deb2680",
   "metadata": {},
   "outputs": [],
   "source": [
    "upbit_2022 = pd.read_csv('DATA/upbit_2022_krw_BTC.csv')\n",
    "upbit_2023 = pd.read_csv('DATA/upbit_2023_krw_BTC.csv')"
   ]
  },
  {
   "cell_type": "code",
   "execution_count": 56,
   "id": "2504bcc8-4fc3-427c-9487-f436c7e614d4",
   "metadata": {},
   "outputs": [
    {
     "data": {
      "text/plain": [
       "(105120, 11)"
      ]
     },
     "execution_count": 56,
     "metadata": {},
     "output_type": "execute_result"
    }
   ],
   "source": [
    "print(upbit_2022.shape)\n",
    "print(upbit_2023.shape)"
   ]
  },
  {
   "cell_type": "code",
   "execution_count": 59,
   "id": "288f19bd-8fc0-437c-af2d-062780abeac8",
   "metadata": {},
   "outputs": [
    {
     "name": "stdout",
     "output_type": "stream",
     "text": [
      "<class 'pandas.core.frame.DataFrame'>\n",
      "RangeIndex: 105120 entries, 0 to 105119\n",
      "Data columns (total 13 columns):\n",
      " #   Column                   Non-Null Count   Dtype         \n",
      "---  ------                   --------------   -----         \n",
      " 0   market                   105120 non-null  object        \n",
      " 1   candle_date_time_utc     105120 non-null  object        \n",
      " 2   candle_date_time_kst     105120 non-null  object        \n",
      " 3   opening_price            105120 non-null  float64       \n",
      " 4   high_price               105120 non-null  float64       \n",
      " 5   low_price                105120 non-null  float64       \n",
      " 6   trade_price              105120 non-null  float64       \n",
      " 7   timestamp                105120 non-null  int64         \n",
      " 8   candle_acc_trade_price   105120 non-null  float64       \n",
      " 9   candle_acc_trade_volume  105120 non-null  float64       \n",
      " 10  unit                     105120 non-null  int64         \n",
      " 11  datetime                 105120 non-null  datetime64[ns]\n",
      " 12  일자                       105120 non-null  object        \n",
      "dtypes: datetime64[ns](1), float64(6), int64(2), object(4)\n",
      "memory usage: 10.4+ MB\n"
     ]
    }
   ],
   "source": [
    "upbit_2022.info()"
   ]
  },
  {
   "cell_type": "code",
   "execution_count": null,
   "id": "a7c0d356-98c2-4d85-9b59-e070a5f1d9dd",
   "metadata": {},
   "outputs": [],
   "source": [
    "upbit_2023.info()"
   ]
  },
  {
   "cell_type": "code",
   "execution_count": 124,
   "id": "05579023-683d-4231-b87a-7cbd1b9bbe48",
   "metadata": {},
   "outputs": [],
   "source": [
    "upbit_2022['datetime'] = pd.to_datetime(upbit_2022['candle_date_time_utc']) # 미국 시간 기준\n",
    "upbit_2023['datetime'] = pd.to_datetime(upbit_2023['candle_date_time_utc'])"
   ]
  },
  {
   "cell_type": "markdown",
   "id": "3f9c7995-8dc4-448d-a0f0-2408eacd2106",
   "metadata": {},
   "source": [
    "## 환율 데이터 받아오기\n",
    "- 환율 데이터 출처\n",
    "- https://spot.wooribank.com/pot/Dream?withyou=FXXRT0014"
   ]
  },
  {
   "cell_type": "code",
   "execution_count": 39,
   "id": "f745048d-03b5-42b1-b6b9-a0c19ae0f423",
   "metadata": {
    "scrolled": true
   },
   "outputs": [],
   "source": [
    "# 데이터가 없는 날이 있기 때문에 그것을 채워준다.\n",
    "def manipulate_exchange_data(money, start, end):\n",
    "    start_date = start\n",
    "    end_date = end\n",
    "    \n",
    "    # 기간의 모든 날짜 생성\n",
    "    date_range = pd.date_range(start=start_date, end=end_date)\n",
    "    \n",
    "    # 데이터 프레임에 날짜 채워넣기\n",
    "    df_date = pd.DataFrame(date_range, columns=['일자'])\n",
    "    \n",
    "    # 원하는 형식으로 날짜 변환 (옵션)\n",
    "    df_date['일자'] = df_date['일자'].dt.strftime('%Y.%m.%d')\n",
    "    \n",
    "    # 모든 일자 데이터에 money 데이터 병합\n",
    "    money = df_date.merge(money, on='일자', how='left')\n",
    "    \n",
    "    # 바로 전 데이터로 결측값 채우기\n",
    "    money['기준환율'] = money['기준환율'].ffill().bfill()\n",
    "    \n",
    "    return money"
   ]
  },
  {
   "cell_type": "code",
   "execution_count": 32,
   "id": "43744963-26ac-4978-899a-cf46cf2512b4",
   "metadata": {},
   "outputs": [],
   "source": [
    "money_2022 = pd.read_excel('DATA/환율_2022.xlsx')\n",
    "money_2023 = pd.read_excel('DATA/환율_2023.xlsx')"
   ]
  },
  {
   "cell_type": "code",
   "execution_count": 55,
   "id": "ce3ec1e8-0086-4079-8b34-7e42d9bdcead",
   "metadata": {},
   "outputs": [],
   "source": [
    "money_2022 = money_2022[['일자', '기준환율']]\n",
    "money_2023 = money_2023[['일자', '기준환율']]"
   ]
  },
  {
   "cell_type": "code",
   "execution_count": 56,
   "id": "82c98ddb-3c49-43f6-8551-2ad3ffa89c1c",
   "metadata": {},
   "outputs": [],
   "source": [
    "money_2022 = manipulate_exchange_data(money_2022, '2022-01-01', '2022-12-31')\n",
    "money_2023 = manipulate_exchange_data(money_2023, '2023-01-01', '2023-12-31')"
   ]
  },
  {
   "cell_type": "code",
   "execution_count": 57,
   "id": "161b617e-f367-4bd3-8379-1281ef992472",
   "metadata": {},
   "outputs": [
    {
     "data": {
      "text/html": [
       "<div>\n",
       "<style scoped>\n",
       "    .dataframe tbody tr th:only-of-type {\n",
       "        vertical-align: middle;\n",
       "    }\n",
       "\n",
       "    .dataframe tbody tr th {\n",
       "        vertical-align: top;\n",
       "    }\n",
       "\n",
       "    .dataframe thead th {\n",
       "        text-align: right;\n",
       "    }\n",
       "</style>\n",
       "<table border=\"1\" class=\"dataframe\">\n",
       "  <thead>\n",
       "    <tr style=\"text-align: right;\">\n",
       "      <th></th>\n",
       "      <th>일자</th>\n",
       "      <th>기준환율</th>\n",
       "    </tr>\n",
       "  </thead>\n",
       "  <tbody>\n",
       "    <tr>\n",
       "      <th>0</th>\n",
       "      <td>2022.01.01</td>\n",
       "      <td>1185.5</td>\n",
       "    </tr>\n",
       "    <tr>\n",
       "      <th>1</th>\n",
       "      <td>2022.01.02</td>\n",
       "      <td>1185.5</td>\n",
       "    </tr>\n",
       "    <tr>\n",
       "      <th>2</th>\n",
       "      <td>2022.01.03</td>\n",
       "      <td>1185.5</td>\n",
       "    </tr>\n",
       "    <tr>\n",
       "      <th>3</th>\n",
       "      <td>2022.01.04</td>\n",
       "      <td>1190.8</td>\n",
       "    </tr>\n",
       "    <tr>\n",
       "      <th>4</th>\n",
       "      <td>2022.01.05</td>\n",
       "      <td>1194.3</td>\n",
       "    </tr>\n",
       "  </tbody>\n",
       "</table>\n",
       "</div>"
      ],
      "text/plain": [
       "           일자    기준환율\n",
       "0  2022.01.01  1185.5\n",
       "1  2022.01.02  1185.5\n",
       "2  2022.01.03  1185.5\n",
       "3  2022.01.04  1190.8\n",
       "4  2022.01.05  1194.3"
      ]
     },
     "execution_count": 57,
     "metadata": {},
     "output_type": "execute_result"
    }
   ],
   "source": [
    "money_2022.head()"
   ]
  },
  {
   "cell_type": "code",
   "execution_count": 58,
   "id": "c20d7a0d-0bcb-48fb-81d7-c2a9839d2f5d",
   "metadata": {},
   "outputs": [
    {
     "data": {
      "text/html": [
       "<div>\n",
       "<style scoped>\n",
       "    .dataframe tbody tr th:only-of-type {\n",
       "        vertical-align: middle;\n",
       "    }\n",
       "\n",
       "    .dataframe tbody tr th {\n",
       "        vertical-align: top;\n",
       "    }\n",
       "\n",
       "    .dataframe thead th {\n",
       "        text-align: right;\n",
       "    }\n",
       "</style>\n",
       "<table border=\"1\" class=\"dataframe\">\n",
       "  <thead>\n",
       "    <tr style=\"text-align: right;\">\n",
       "      <th></th>\n",
       "      <th>일자</th>\n",
       "      <th>기준환율</th>\n",
       "    </tr>\n",
       "  </thead>\n",
       "  <tbody>\n",
       "    <tr>\n",
       "      <th>0</th>\n",
       "      <td>2023.01.01</td>\n",
       "      <td>1,267.30</td>\n",
       "    </tr>\n",
       "    <tr>\n",
       "      <th>1</th>\n",
       "      <td>2023.01.02</td>\n",
       "      <td>1,267.30</td>\n",
       "    </tr>\n",
       "    <tr>\n",
       "      <th>2</th>\n",
       "      <td>2023.01.03</td>\n",
       "      <td>1,268.90</td>\n",
       "    </tr>\n",
       "    <tr>\n",
       "      <th>3</th>\n",
       "      <td>2023.01.04</td>\n",
       "      <td>1,272.10</td>\n",
       "    </tr>\n",
       "    <tr>\n",
       "      <th>4</th>\n",
       "      <td>2023.01.05</td>\n",
       "      <td>1,274.70</td>\n",
       "    </tr>\n",
       "  </tbody>\n",
       "</table>\n",
       "</div>"
      ],
      "text/plain": [
       "           일자      기준환율\n",
       "0  2023.01.01  1,267.30\n",
       "1  2023.01.02  1,267.30\n",
       "2  2023.01.03  1,268.90\n",
       "3  2023.01.04  1,272.10\n",
       "4  2023.01.05  1,274.70"
      ]
     },
     "execution_count": 58,
     "metadata": {},
     "output_type": "execute_result"
    }
   ],
   "source": [
    "money_2023.head()"
   ]
  },
  {
   "cell_type": "markdown",
   "id": "ac314177-fb0b-4c2b-a340-36da2416a112",
   "metadata": {},
   "source": [
    "## 바이낸스 데이터 원화로 변경"
   ]
  },
  {
   "cell_type": "code",
   "execution_count": 49,
   "id": "5b95bc5d-9b66-4d31-af0d-339be192968b",
   "metadata": {},
   "outputs": [],
   "source": [
    "binance_2022['Open time'] = pd.to_datetime(binance_2022['Open time'])\n",
    "binance_2023['Open time'] = pd.to_datetime(binance_2023['Open time'])"
   ]
  },
  {
   "cell_type": "code",
   "execution_count": 42,
   "id": "c7f6962c-608f-4099-8dc5-8f4c9aac2ee8",
   "metadata": {},
   "outputs": [],
   "source": [
    "# 바이낸스 데이터 원화로 변경하여 추출\n",
    "def binance_to_KRW(binance, money):\n",
    "    binance_adjust = binance[['Open time', 'Close']].rename(columns={'Open time': 'datetime'})\n",
    "    binance_adjust['일자'] = binance_adjust['datetime'].dt.strftime('%Y.%m.%d')\n",
    "    \n",
    "    binance_merged = binance_adjust.merge(money, on='일자', how='left')\n",
    "    \n",
    "    binance_merged['Binance_won'] = binance_merged['Close'] * binance_merged['기준환율']\n",
    "    binance_merged = binance_merged[['datetime', 'Binance_won']]\n",
    "    \n",
    "    return binance_merged"
   ]
  },
  {
   "cell_type": "code",
   "execution_count": 59,
   "id": "473bdefb-a7f3-4b91-bd52-12a6339becbf",
   "metadata": {},
   "outputs": [
    {
     "data": {
      "text/html": [
       "<div>\n",
       "<style scoped>\n",
       "    .dataframe tbody tr th:only-of-type {\n",
       "        vertical-align: middle;\n",
       "    }\n",
       "\n",
       "    .dataframe tbody tr th {\n",
       "        vertical-align: top;\n",
       "    }\n",
       "\n",
       "    .dataframe thead th {\n",
       "        text-align: right;\n",
       "    }\n",
       "</style>\n",
       "<table border=\"1\" class=\"dataframe\">\n",
       "  <thead>\n",
       "    <tr style=\"text-align: right;\">\n",
       "      <th></th>\n",
       "      <th>datetime</th>\n",
       "      <th>Binance_won</th>\n",
       "    </tr>\n",
       "  </thead>\n",
       "  <tbody>\n",
       "    <tr>\n",
       "      <th>0</th>\n",
       "      <td>2022-01-01 00:00:00</td>\n",
       "      <td>5.491395e+07</td>\n",
       "    </tr>\n",
       "    <tr>\n",
       "      <th>1</th>\n",
       "      <td>2022-01-01 00:05:00</td>\n",
       "      <td>5.497295e+07</td>\n",
       "    </tr>\n",
       "    <tr>\n",
       "      <th>2</th>\n",
       "      <td>2022-01-01 00:10:00</td>\n",
       "      <td>5.492719e+07</td>\n",
       "    </tr>\n",
       "    <tr>\n",
       "      <th>3</th>\n",
       "      <td>2022-01-01 00:15:00</td>\n",
       "      <td>5.488142e+07</td>\n",
       "    </tr>\n",
       "    <tr>\n",
       "      <th>4</th>\n",
       "      <td>2022-01-01 00:20:00</td>\n",
       "      <td>5.500190e+07</td>\n",
       "    </tr>\n",
       "    <tr>\n",
       "      <th>...</th>\n",
       "      <td>...</td>\n",
       "      <td>...</td>\n",
       "    </tr>\n",
       "    <tr>\n",
       "      <th>105116</th>\n",
       "      <td>2022-12-31 23:40:00</td>\n",
       "      <td>2.096891e+07</td>\n",
       "    </tr>\n",
       "    <tr>\n",
       "      <th>105117</th>\n",
       "      <td>2022-12-31 23:45:00</td>\n",
       "      <td>2.095994e+07</td>\n",
       "    </tr>\n",
       "    <tr>\n",
       "      <th>105118</th>\n",
       "      <td>2022-12-31 23:50:00</td>\n",
       "      <td>2.096167e+07</td>\n",
       "    </tr>\n",
       "    <tr>\n",
       "      <th>105119</th>\n",
       "      <td>2022-12-31 23:55:00</td>\n",
       "      <td>2.096418e+07</td>\n",
       "    </tr>\n",
       "    <tr>\n",
       "      <th>105120</th>\n",
       "      <td>2023-01-01 00:00:00</td>\n",
       "      <td>NaN</td>\n",
       "    </tr>\n",
       "  </tbody>\n",
       "</table>\n",
       "<p>105121 rows × 2 columns</p>\n",
       "</div>"
      ],
      "text/plain": [
       "                  datetime   Binance_won\n",
       "0      2022-01-01 00:00:00  5.491395e+07\n",
       "1      2022-01-01 00:05:00  5.497295e+07\n",
       "2      2022-01-01 00:10:00  5.492719e+07\n",
       "3      2022-01-01 00:15:00  5.488142e+07\n",
       "4      2022-01-01 00:20:00  5.500190e+07\n",
       "...                    ...           ...\n",
       "105116 2022-12-31 23:40:00  2.096891e+07\n",
       "105117 2022-12-31 23:45:00  2.095994e+07\n",
       "105118 2022-12-31 23:50:00  2.096167e+07\n",
       "105119 2022-12-31 23:55:00  2.096418e+07\n",
       "105120 2023-01-01 00:00:00           NaN\n",
       "\n",
       "[105121 rows x 2 columns]"
      ]
     },
     "execution_count": 59,
     "metadata": {},
     "output_type": "execute_result"
    }
   ],
   "source": [
    "binance_to_KRW(binance_2022, money_2022)"
   ]
  },
  {
   "cell_type": "code",
   "execution_count": 95,
   "id": "1c9027da-9717-4326-8056-690e8294d1c1",
   "metadata": {
    "scrolled": true
   },
   "outputs": [
    {
     "data": {
      "text/html": [
       "<div>\n",
       "<style scoped>\n",
       "    .dataframe tbody tr th:only-of-type {\n",
       "        vertical-align: middle;\n",
       "    }\n",
       "\n",
       "    .dataframe tbody tr th {\n",
       "        vertical-align: top;\n",
       "    }\n",
       "\n",
       "    .dataframe thead th {\n",
       "        text-align: right;\n",
       "    }\n",
       "</style>\n",
       "<table border=\"1\" class=\"dataframe\">\n",
       "  <thead>\n",
       "    <tr style=\"text-align: right;\">\n",
       "      <th></th>\n",
       "      <th>datetime</th>\n",
       "      <th>Binance_won</th>\n",
       "    </tr>\n",
       "  </thead>\n",
       "  <tbody>\n",
       "    <tr>\n",
       "      <th>0</th>\n",
       "      <td>2023-01-01 00:00:00</td>\n",
       "      <td>2.095529e+07</td>\n",
       "    </tr>\n",
       "    <tr>\n",
       "      <th>1</th>\n",
       "      <td>2023-01-01 00:05:00</td>\n",
       "      <td>2.094425e+07</td>\n",
       "    </tr>\n",
       "    <tr>\n",
       "      <th>2</th>\n",
       "      <td>2023-01-01 00:10:00</td>\n",
       "      <td>2.093667e+07</td>\n",
       "    </tr>\n",
       "    <tr>\n",
       "      <th>3</th>\n",
       "      <td>2023-01-01 00:15:00</td>\n",
       "      <td>2.095473e+07</td>\n",
       "    </tr>\n",
       "    <tr>\n",
       "      <th>4</th>\n",
       "      <td>2023-01-01 00:20:00</td>\n",
       "      <td>2.095549e+07</td>\n",
       "    </tr>\n",
       "  </tbody>\n",
       "</table>\n",
       "</div>"
      ],
      "text/plain": [
       "             datetime   Binance_won\n",
       "0 2023-01-01 00:00:00  2.095529e+07\n",
       "1 2023-01-01 00:05:00  2.094425e+07\n",
       "2 2023-01-01 00:10:00  2.093667e+07\n",
       "3 2023-01-01 00:15:00  2.095473e+07\n",
       "4 2023-01-01 00:20:00  2.095549e+07"
      ]
     },
     "execution_count": 95,
     "metadata": {},
     "output_type": "execute_result"
    }
   ],
   "source": [
    "# 바이낸스 데이터 원화로 변경하여 추출\n",
    "binance_adjust = binance[['Open time', 'Close']].rename(columns={'Open time': 'datetime'})\n",
    "binance_adjust['일자'] = binance_adjust['datetime'].dt.strftime('%Y.%m.%d')\n",
    "\n",
    "binance_merged = binance_adjust.merge(money, on='일자', how='left')\n",
    "\n",
    "binance_merged['Binance_won'] = binance_merged['Close'] * binance_merged['기준환율']\n",
    "binance_merged = binance_merged[['datetime', 'Binance_won']]\n",
    "\n",
    "binance_merged.head()"
   ]
  },
  {
   "cell_type": "code",
   "execution_count": 125,
   "id": "ffed5683-54d3-43c5-9940-aa9d73718cb0",
   "metadata": {},
   "outputs": [
    {
     "data": {
      "text/html": [
       "<div>\n",
       "<style scoped>\n",
       "    .dataframe tbody tr th:only-of-type {\n",
       "        vertical-align: middle;\n",
       "    }\n",
       "\n",
       "    .dataframe tbody tr th {\n",
       "        vertical-align: top;\n",
       "    }\n",
       "\n",
       "    .dataframe thead th {\n",
       "        text-align: right;\n",
       "    }\n",
       "</style>\n",
       "<table border=\"1\" class=\"dataframe\">\n",
       "  <thead>\n",
       "    <tr style=\"text-align: right;\">\n",
       "      <th></th>\n",
       "      <th>datetime</th>\n",
       "      <th>trade_price</th>\n",
       "    </tr>\n",
       "  </thead>\n",
       "  <tbody>\n",
       "    <tr>\n",
       "      <th>0</th>\n",
       "      <td>2023-01-01 00:00:00</td>\n",
       "      <td>21064000.0</td>\n",
       "    </tr>\n",
       "    <tr>\n",
       "      <th>1</th>\n",
       "      <td>2023-01-01 00:05:00</td>\n",
       "      <td>21040000.0</td>\n",
       "    </tr>\n",
       "    <tr>\n",
       "      <th>2</th>\n",
       "      <td>2023-01-01 00:10:00</td>\n",
       "      <td>21012000.0</td>\n",
       "    </tr>\n",
       "    <tr>\n",
       "      <th>3</th>\n",
       "      <td>2023-01-01 00:15:00</td>\n",
       "      <td>21010000.0</td>\n",
       "    </tr>\n",
       "    <tr>\n",
       "      <th>4</th>\n",
       "      <td>2023-01-01 00:20:00</td>\n",
       "      <td>21048000.0</td>\n",
       "    </tr>\n",
       "  </tbody>\n",
       "</table>\n",
       "</div>"
      ],
      "text/plain": [
       "             datetime  trade_price\n",
       "0 2023-01-01 00:00:00   21064000.0\n",
       "1 2023-01-01 00:05:00   21040000.0\n",
       "2 2023-01-01 00:10:00   21012000.0\n",
       "3 2023-01-01 00:15:00   21010000.0\n",
       "4 2023-01-01 00:20:00   21048000.0"
      ]
     },
     "execution_count": 125,
     "metadata": {},
     "output_type": "execute_result"
    }
   ],
   "source": [
    "upbit = df[['datetime', 'trade_price']]\n",
    "upbit.head()"
   ]
  },
  {
   "cell_type": "code",
   "execution_count": 126,
   "id": "5861bf0a-de33-46e8-b508-77fa8aea6092",
   "metadata": {},
   "outputs": [
    {
     "data": {
      "text/html": [
       "<div>\n",
       "<style scoped>\n",
       "    .dataframe tbody tr th:only-of-type {\n",
       "        vertical-align: middle;\n",
       "    }\n",
       "\n",
       "    .dataframe tbody tr th {\n",
       "        vertical-align: top;\n",
       "    }\n",
       "\n",
       "    .dataframe thead th {\n",
       "        text-align: right;\n",
       "    }\n",
       "</style>\n",
       "<table border=\"1\" class=\"dataframe\">\n",
       "  <thead>\n",
       "    <tr style=\"text-align: right;\">\n",
       "      <th></th>\n",
       "      <th>datetime</th>\n",
       "      <th>U</th>\n",
       "      <th>B</th>\n",
       "    </tr>\n",
       "  </thead>\n",
       "  <tbody>\n",
       "    <tr>\n",
       "      <th>0</th>\n",
       "      <td>2023-01-01 00:00:00</td>\n",
       "      <td>21064000.0</td>\n",
       "      <td>2.095529e+07</td>\n",
       "    </tr>\n",
       "    <tr>\n",
       "      <th>1</th>\n",
       "      <td>2023-01-01 00:05:00</td>\n",
       "      <td>21040000.0</td>\n",
       "      <td>2.094425e+07</td>\n",
       "    </tr>\n",
       "    <tr>\n",
       "      <th>2</th>\n",
       "      <td>2023-01-01 00:10:00</td>\n",
       "      <td>21012000.0</td>\n",
       "      <td>2.093667e+07</td>\n",
       "    </tr>\n",
       "    <tr>\n",
       "      <th>3</th>\n",
       "      <td>2023-01-01 00:15:00</td>\n",
       "      <td>21010000.0</td>\n",
       "      <td>2.095473e+07</td>\n",
       "    </tr>\n",
       "    <tr>\n",
       "      <th>4</th>\n",
       "      <td>2023-01-01 00:20:00</td>\n",
       "      <td>21048000.0</td>\n",
       "      <td>2.095549e+07</td>\n",
       "    </tr>\n",
       "    <tr>\n",
       "      <th>...</th>\n",
       "      <td>...</td>\n",
       "      <td>...</td>\n",
       "      <td>...</td>\n",
       "    </tr>\n",
       "    <tr>\n",
       "      <th>105115</th>\n",
       "      <td>2023-12-31 23:35:00</td>\n",
       "      <td>57070000.0</td>\n",
       "      <td>5.445278e+07</td>\n",
       "    </tr>\n",
       "    <tr>\n",
       "      <th>105116</th>\n",
       "      <td>2023-12-31 23:40:00</td>\n",
       "      <td>57072000.0</td>\n",
       "      <td>5.446566e+07</td>\n",
       "    </tr>\n",
       "    <tr>\n",
       "      <th>105117</th>\n",
       "      <td>2023-12-31 23:45:00</td>\n",
       "      <td>57080000.0</td>\n",
       "      <td>5.450272e+07</td>\n",
       "    </tr>\n",
       "    <tr>\n",
       "      <th>105118</th>\n",
       "      <td>2023-12-31 23:50:00</td>\n",
       "      <td>57018000.0</td>\n",
       "      <td>5.444118e+07</td>\n",
       "    </tr>\n",
       "    <tr>\n",
       "      <th>105119</th>\n",
       "      <td>2023-12-31 23:55:00</td>\n",
       "      <td>57047000.0</td>\n",
       "      <td>5.452045e+07</td>\n",
       "    </tr>\n",
       "  </tbody>\n",
       "</table>\n",
       "<p>105120 rows × 3 columns</p>\n",
       "</div>"
      ],
      "text/plain": [
       "                  datetime           U             B\n",
       "0      2023-01-01 00:00:00  21064000.0  2.095529e+07\n",
       "1      2023-01-01 00:05:00  21040000.0  2.094425e+07\n",
       "2      2023-01-01 00:10:00  21012000.0  2.093667e+07\n",
       "3      2023-01-01 00:15:00  21010000.0  2.095473e+07\n",
       "4      2023-01-01 00:20:00  21048000.0  2.095549e+07\n",
       "...                    ...         ...           ...\n",
       "105115 2023-12-31 23:35:00  57070000.0  5.445278e+07\n",
       "105116 2023-12-31 23:40:00  57072000.0  5.446566e+07\n",
       "105117 2023-12-31 23:45:00  57080000.0  5.450272e+07\n",
       "105118 2023-12-31 23:50:00  57018000.0  5.444118e+07\n",
       "105119 2023-12-31 23:55:00  57047000.0  5.452045e+07\n",
       "\n",
       "[105120 rows x 3 columns]"
      ]
     },
     "execution_count": 126,
     "metadata": {},
     "output_type": "execute_result"
    }
   ],
   "source": [
    "u_b_won = upbit.merge(binance_merged, on='datetime', how='left').rename(columns={'trade_price': 'U', 'Binance_won': 'B'})\n",
    "u_b_won"
   ]
  },
  {
   "cell_type": "code",
   "execution_count": 129,
   "id": "da57833a-f160-44fa-9e93-476ae2f5d03a",
   "metadata": {},
   "outputs": [
    {
     "data": {
      "text/plain": [
       "675304.1571882612"
      ]
     },
     "execution_count": 129,
     "metadata": {},
     "output_type": "execute_result"
    }
   ],
   "source": [
    "(u_b_won['U'] - u_b_won['B']).mean()"
   ]
  },
  {
   "cell_type": "code",
   "execution_count": 130,
   "id": "f95ae122-2190-4979-be86-f7fa4d3b2952",
   "metadata": {},
   "outputs": [
    {
     "data": {
      "text/plain": [
       "datetime    2023-12-15 23:20:00\n",
       "U                    58367000.0\n",
       "B                  54450207.112\n",
       "diff                3916792.888\n",
       "Name: 100504, dtype: object"
      ]
     },
     "execution_count": 130,
     "metadata": {},
     "output_type": "execute_result"
    }
   ],
   "source": [
    "u_b_won['diff'] = u_b_won['U'] - u_b_won['B']\n",
    "u_b_won.iloc[u_b_won['diff'].idxmax()]"
   ]
  },
  {
   "cell_type": "code",
   "execution_count": 135,
   "id": "a1243e05-6582-4a62-bf44-730882bb77a7",
   "metadata": {},
   "outputs": [],
   "source": [
    "u_b_won['diff_percentage'] = (u_b_won['U'] / u_b_won['B'] - 1) * 100"
   ]
  },
  {
   "cell_type": "code",
   "execution_count": 137,
   "id": "875e8bbc-9728-4cdb-930b-71a447e2bcd2",
   "metadata": {},
   "outputs": [
    {
     "data": {
      "text/plain": [
       "1.6730431999783233"
      ]
     },
     "execution_count": 137,
     "metadata": {},
     "output_type": "execute_result"
    }
   ],
   "source": [
    "u_b_won['diff_percentage'].mean()"
   ]
  },
  {
   "cell_type": "code",
   "execution_count": 144,
   "id": "b9781536-ad6b-41d8-88d3-41d8cae319a8",
   "metadata": {},
   "outputs": [
    {
     "data": {
      "text/html": [
       "<div>\n",
       "<style scoped>\n",
       "    .dataframe tbody tr th:only-of-type {\n",
       "        vertical-align: middle;\n",
       "    }\n",
       "\n",
       "    .dataframe tbody tr th {\n",
       "        vertical-align: top;\n",
       "    }\n",
       "\n",
       "    .dataframe thead th {\n",
       "        text-align: right;\n",
       "    }\n",
       "</style>\n",
       "<table border=\"1\" class=\"dataframe\">\n",
       "  <thead>\n",
       "    <tr style=\"text-align: right;\">\n",
       "      <th></th>\n",
       "      <th>datetime</th>\n",
       "      <th>U</th>\n",
       "      <th>B</th>\n",
       "      <th>diff</th>\n",
       "      <th>diff_percentage</th>\n",
       "    </tr>\n",
       "  </thead>\n",
       "  <tbody>\n",
       "    <tr>\n",
       "      <th>0</th>\n",
       "      <td>2023-01-01 00:00:00</td>\n",
       "      <td>21064000.0</td>\n",
       "      <td>2.095529e+07</td>\n",
       "      <td>108712.926</td>\n",
       "      <td>0.518785</td>\n",
       "    </tr>\n",
       "    <tr>\n",
       "      <th>1</th>\n",
       "      <td>2023-01-01 00:05:00</td>\n",
       "      <td>21040000.0</td>\n",
       "      <td>2.094425e+07</td>\n",
       "      <td>95751.109</td>\n",
       "      <td>0.457171</td>\n",
       "    </tr>\n",
       "    <tr>\n",
       "      <th>2</th>\n",
       "      <td>2023-01-01 00:10:00</td>\n",
       "      <td>21012000.0</td>\n",
       "      <td>2.093667e+07</td>\n",
       "      <td>75329.563</td>\n",
       "      <td>0.359797</td>\n",
       "    </tr>\n",
       "    <tr>\n",
       "      <th>3</th>\n",
       "      <td>2023-01-01 00:15:00</td>\n",
       "      <td>21010000.0</td>\n",
       "      <td>2.095473e+07</td>\n",
       "      <td>55270.538</td>\n",
       "      <td>0.263762</td>\n",
       "    </tr>\n",
       "    <tr>\n",
       "      <th>4</th>\n",
       "      <td>2023-01-01 00:20:00</td>\n",
       "      <td>21048000.0</td>\n",
       "      <td>2.095549e+07</td>\n",
       "      <td>92510.158</td>\n",
       "      <td>0.441460</td>\n",
       "    </tr>\n",
       "    <tr>\n",
       "      <th>...</th>\n",
       "      <td>...</td>\n",
       "      <td>...</td>\n",
       "      <td>...</td>\n",
       "      <td>...</td>\n",
       "      <td>...</td>\n",
       "    </tr>\n",
       "    <tr>\n",
       "      <th>105115</th>\n",
       "      <td>2023-12-31 23:35:00</td>\n",
       "      <td>57070000.0</td>\n",
       "      <td>5.445278e+07</td>\n",
       "      <td>2617219.660</td>\n",
       "      <td>4.806402</td>\n",
       "    </tr>\n",
       "    <tr>\n",
       "      <th>105116</th>\n",
       "      <td>2023-12-31 23:40:00</td>\n",
       "      <td>57072000.0</td>\n",
       "      <td>5.446566e+07</td>\n",
       "      <td>2606338.554</td>\n",
       "      <td>4.785288</td>\n",
       "    </tr>\n",
       "    <tr>\n",
       "      <th>105117</th>\n",
       "      <td>2023-12-31 23:45:00</td>\n",
       "      <td>57080000.0</td>\n",
       "      <td>5.450272e+07</td>\n",
       "      <td>2577281.198</td>\n",
       "      <td>4.728720</td>\n",
       "    </tr>\n",
       "    <tr>\n",
       "      <th>105118</th>\n",
       "      <td>2023-12-31 23:50:00</td>\n",
       "      <td>57018000.0</td>\n",
       "      <td>5.444118e+07</td>\n",
       "      <td>2576824.260</td>\n",
       "      <td>4.733227</td>\n",
       "    </tr>\n",
       "    <tr>\n",
       "      <th>105119</th>\n",
       "      <td>2023-12-31 23:55:00</td>\n",
       "      <td>57047000.0</td>\n",
       "      <td>5.452045e+07</td>\n",
       "      <td>2526551.948</td>\n",
       "      <td>4.634136</td>\n",
       "    </tr>\n",
       "  </tbody>\n",
       "</table>\n",
       "<p>105120 rows × 5 columns</p>\n",
       "</div>"
      ],
      "text/plain": [
       "                  datetime           U             B         diff  \\\n",
       "0      2023-01-01 00:00:00  21064000.0  2.095529e+07   108712.926   \n",
       "1      2023-01-01 00:05:00  21040000.0  2.094425e+07    95751.109   \n",
       "2      2023-01-01 00:10:00  21012000.0  2.093667e+07    75329.563   \n",
       "3      2023-01-01 00:15:00  21010000.0  2.095473e+07    55270.538   \n",
       "4      2023-01-01 00:20:00  21048000.0  2.095549e+07    92510.158   \n",
       "...                    ...         ...           ...          ...   \n",
       "105115 2023-12-31 23:35:00  57070000.0  5.445278e+07  2617219.660   \n",
       "105116 2023-12-31 23:40:00  57072000.0  5.446566e+07  2606338.554   \n",
       "105117 2023-12-31 23:45:00  57080000.0  5.450272e+07  2577281.198   \n",
       "105118 2023-12-31 23:50:00  57018000.0  5.444118e+07  2576824.260   \n",
       "105119 2023-12-31 23:55:00  57047000.0  5.452045e+07  2526551.948   \n",
       "\n",
       "        diff_percentage  \n",
       "0              0.518785  \n",
       "1              0.457171  \n",
       "2              0.359797  \n",
       "3              0.263762  \n",
       "4              0.441460  \n",
       "...                 ...  \n",
       "105115         4.806402  \n",
       "105116         4.785288  \n",
       "105117         4.728720  \n",
       "105118         4.733227  \n",
       "105119         4.634136  \n",
       "\n",
       "[105120 rows x 5 columns]"
      ]
     },
     "execution_count": 144,
     "metadata": {},
     "output_type": "execute_result"
    }
   ],
   "source": [
    "u_b_won"
   ]
  },
  {
   "cell_type": "code",
   "execution_count": 152,
   "id": "71fdbeca-4088-4d4c-bd48-fb4230c771bc",
   "metadata": {},
   "outputs": [],
   "source": [
    "u_b_won_cleaned = u_b_won.dropna(subset=['B'], ignore_index=True)"
   ]
  },
  {
   "cell_type": "code",
   "execution_count": 210,
   "id": "71b41fed-2195-4c83-bd6e-e2eab651c4d3",
   "metadata": {},
   "outputs": [],
   "source": [
    "from scipy.stats import normaltest\n",
    "\n",
    "def K_squared_test(data):\n",
    "    # D'Agostino's K-squared 검정 수행\n",
    "    statistic, p_value = normaltest(data)\n",
    "    \n",
    "    # 결과 출력\n",
    "    print(f\"D'Agostino's K-squared Test Statistic: {statistic}\")\n",
    "    print(f\"P-value: {p_value}\")\n",
    "    \n",
    "    # 결과 해석\n",
    "    if p_value < alpha:\n",
    "        print(\"귀무 가설을 기각합니다. 데이터가 정규 분포를 따르지 않습니다.\")\n",
    "    else:\n",
    "        print(\"귀무 가설을 기각할 수 없습니다. 데이터가 정규 분포를 따릅니다.\")"
   ]
  },
  {
   "cell_type": "code",
   "execution_count": 212,
   "id": "73347f5e-00b6-4dbb-bc04-5a562d5574cf",
   "metadata": {},
   "outputs": [
    {
     "name": "stdout",
     "output_type": "stream",
     "text": [
      "D'Agostino's K-squared Test Statistic: 9468.353022568795\n",
      "P-value: 0.0\n",
      "귀무 가설을 기각합니다. 데이터가 정규 분포를 따르지 않습니다.\n",
      "\n",
      "D'Agostino's K-squared Test Statistic: 6561.791779650373\n",
      "P-value: 0.0\n",
      "귀무 가설을 기각합니다. 데이터가 정규 분포를 따르지 않습니다.\n"
     ]
    }
   ],
   "source": [
    "K_squared_test(u_b_won_cleaned['U'])\n",
    "print()\n",
    "K_squared_test(u_b_won_cleaned['B'])"
   ]
  },
  {
   "cell_type": "markdown",
   "id": "5516e40a-42dc-4e68-a772-a626ea185434",
   "metadata": {},
   "source": [
    "- qq plot 설명\n",
    "- https://blog.naver.com/breezehome50/222339451767"
   ]
  },
  {
   "cell_type": "code",
   "execution_count": 242,
   "id": "3ce5179f-300d-48ab-a10f-8124a253dc0a",
   "metadata": {},
   "outputs": [
    {
     "data": {
      "image/png": "[encoded data removed]",
      "text/plain": [
       "<Figure size 500x500 with 1 Axes>"
      ]
     },
     "metadata": {},
     "output_type": "display_data"
    }
   ],
   "source": [
    "import seaborn as sns\n",
    "\n",
    "sns.displot(u_b_won_cleaned['diff_percentage'], color='red', bins=100)\n",
    "plt.title('비트코인 가격 차이 (업비트 - 바이낸스)')\n",
    "\n",
    "plt.ticklabel_format(axis='x',useOffset=False, style='plain')\n",
    "# plt.ticklabel_format(axis='y',useOffset=False, style='plain')\n",
    "\n",
    "plt.xlabel(\"percentage(%)\")\n",
    "plt.show()"
   ]
  },
  {
   "cell_type": "markdown",
   "id": "c5cd34f7-34a8-4a49-8329-0bfdecaaddca",
   "metadata": {},
   "source": [
    "### Wilcoxon's rank sum test\n",
    "- 데이터가 정규성을 만족하지 않아 비모수적 검정방법을 사용\n",
    "- 또, 수치에는 의미가 없고 상대적 크기가 의미 있는 경우이므로"
   ]
  },
  {
   "cell_type": "code",
   "execution_count": 201,
   "id": "581ee9f8-813d-4bf6-85ef-4dede70a85d7",
   "metadata": {},
   "outputs": [
    {
     "data": {
      "text/plain": [
       "RanksumsResult(statistic=27.047555733435868, pvalue=4.0808859926208076e-161)"
      ]
     },
     "execution_count": 201,
     "metadata": {},
     "output_type": "execute_result"
    }
   ],
   "source": [
    "# 양측검정\n",
    "stats.ranksums(u_b_won_cleaned['U'], u_b_won_cleaned['B'], alternative='two-sided')"
   ]
  },
  {
   "cell_type": "code",
   "execution_count": 200,
   "id": "6072aa9a-93c2-4229-85ac-6e423e277ac7",
   "metadata": {},
   "outputs": [
    {
     "data": {
      "text/plain": [
       "RanksumsResult(statistic=27.047555733435868, pvalue=1.0)"
      ]
     },
     "execution_count": 200,
     "metadata": {},
     "output_type": "execute_result"
    }
   ],
   "source": [
    "# 단측검정\n",
    "stats.ranksums(u_b_won_cleaned['U'], u_b_won_cleaned['B'], alternative='less')"
   ]
  },
  {
   "cell_type": "code",
   "execution_count": 205,
   "id": "c1cdd691-4f11-46dd-9deb-165e3effd48b",
   "metadata": {},
   "outputs": [
    {
     "name": "stdout",
     "output_type": "stream",
     "text": [
      "T-statistic: 411.67363452167194\n",
      "P-value: 0.0\n",
      "귀무 가설을 기각합니다. 샘플의 평균이 모집단의 평균과 유의미하게 다릅니다.\n"
     ]
    }
   ],
   "source": [
    "# 단일 표본 검정, 모집단의 평균이 0이라고 가정\n",
    "import numpy as np\n",
    "from scipy.stats import ttest_1samp\n",
    "\n",
    "# 모집단 평균 설정 (예: μ0 = 0)\n",
    "population_mean = 0\n",
    "\n",
    "# 단일 표본 t-검정 수행\n",
    "t_statistic, p_value = ttest_1samp(u_b_won_cleaned['diff_percentage'], population_mean)\n",
    "\n",
    "# 결과 출력\n",
    "print(f\"T-statistic: {t_statistic}\")\n",
    "print(f\"P-value: {p_value}\")\n",
    "\n",
    "# 결과 해석\n",
    "alpha = 0.05  # 일반적으로 사용하는 유의 수준\n",
    "\n",
    "if p_value < alpha:\n",
    "    print(\"귀무 가설을 기각합니다. 샘플의 평균이 모집단의 평균과 유의미하게 다릅니다.\")\n",
    "else:\n",
    "    print(\"귀무 가설을 기각할 수 없습니다. 샘플의 평균이 모집단의 평균과 유의미하게 다르지 않습니다.\")"
   ]
  },
  {
   "cell_type": "code",
   "execution_count": 293,
   "id": "c5201041-3964-481f-b32a-e1a93635cdc1",
   "metadata": {},
   "outputs": [
    {
     "data": {
      "image/png": "[encoded data removed]",
      "text/plain": [
       "<Figure size 1600x1000 with 1 Axes>"
      ]
     },
     "metadata": {},
     "output_type": "display_data"
    }
   ],
   "source": [
    "plt.figure(figsize=(16, 10))\n",
    "\n",
    "ub_won_cleaned_copy = u_b_won_cleaned.set_index('datetime')\n",
    "ub_won_cleaned_copy['U'].plot(label='Upbit')\n",
    "ub_won_cleaned_copy['B'].plot(label='Binance')\n",
    "ub_won_cleaned_copy['diff'].plot(label='diff')\n",
    "plt.legend()\n",
    "plt.ticklabel_format(axis='y',useOffset=False, style='plain')\n",
    "plt.xlabel(\"\")\n",
    "plt.title('<2023년도 업비트와 바이낸스에서 비트코인 가격 흐름>')\n",
    "\n",
    "plt.show()"
   ]
  },
  {
   "cell_type": "code",
   "execution_count": 292,
   "id": "fe72f4d7-9ea2-47f0-bbad-887bbc19088a",
   "metadata": {},
   "outputs": [
    {
     "data": {
      "image/png": "[encoded data removed]",
      "text/plain": [
       "<Figure size 1600x1000 with 1 Axes>"
      ]
     },
     "metadata": {},
     "output_type": "display_data"
    }
   ],
   "source": [
    "plt.figure(figsize=(16, 10))\n",
    "plt.ticklabel_format(axis='y',useOffset=False, style='plain')\n",
    "ax = ub_won_cleaned_copy['diff_percentage'].plot(label='diff_percentage(%)', color='green')\n",
    "\n",
    "plt.ylabel(\"percentage(%)\")\n",
    "plt.title(\"<2023년도 거래소간 비트코인 시세차이 (업비트-바이낸스)>\")\n",
    "plt.legend()\n",
    "ax.axhline(y=0, color='r', linestyle='--', linewidth=1.5)  # 빨간색 점선, 두께 1.5\n",
    "plt.xlabel(\"\")\n",
    "plt.show()"
   ]
  },
  {
   "cell_type": "code",
   "execution_count": 398,
   "id": "bb419fb2-85f9-4b8b-86c0-e7bf85fa72d7",
   "metadata": {},
   "outputs": [
    {
     "data": {
      "text/html": [
       "<div>\n",
       "<style scoped>\n",
       "    .dataframe tbody tr th:only-of-type {\n",
       "        vertical-align: middle;\n",
       "    }\n",
       "\n",
       "    .dataframe tbody tr th {\n",
       "        vertical-align: top;\n",
       "    }\n",
       "\n",
       "    .dataframe thead th {\n",
       "        text-align: right;\n",
       "    }\n",
       "</style>\n",
       "<table border=\"1\" class=\"dataframe\">\n",
       "  <thead>\n",
       "    <tr style=\"text-align: right;\">\n",
       "      <th></th>\n",
       "      <th>buy</th>\n",
       "      <th>sell</th>\n",
       "      <th>profit</th>\n",
       "      <th>profit_rate</th>\n",
       "    </tr>\n",
       "  </thead>\n",
       "  <tbody>\n",
       "    <tr>\n",
       "      <th>0</th>\n",
       "      <td>21429000.0</td>\n",
       "      <td>21453000.0</td>\n",
       "      <td>24000.0</td>\n",
       "      <td>0.111998</td>\n",
       "    </tr>\n",
       "    <tr>\n",
       "      <th>1</th>\n",
       "      <td>21428000.0</td>\n",
       "      <td>21460000.0</td>\n",
       "      <td>32000.0</td>\n",
       "      <td>0.149337</td>\n",
       "    </tr>\n",
       "    <tr>\n",
       "      <th>2</th>\n",
       "      <td>21451000.0</td>\n",
       "      <td>21450000.0</td>\n",
       "      <td>-1000.0</td>\n",
       "      <td>-0.004662</td>\n",
       "    </tr>\n",
       "    <tr>\n",
       "      <th>3</th>\n",
       "      <td>21443000.0</td>\n",
       "      <td>21454000.0</td>\n",
       "      <td>11000.0</td>\n",
       "      <td>0.051299</td>\n",
       "    </tr>\n",
       "    <tr>\n",
       "      <th>4</th>\n",
       "      <td>21445000.0</td>\n",
       "      <td>21449000.0</td>\n",
       "      <td>4000.0</td>\n",
       "      <td>0.018652</td>\n",
       "    </tr>\n",
       "    <tr>\n",
       "      <th>...</th>\n",
       "      <td>...</td>\n",
       "      <td>...</td>\n",
       "      <td>...</td>\n",
       "      <td>...</td>\n",
       "    </tr>\n",
       "    <tr>\n",
       "      <th>384</th>\n",
       "      <td>47113000.0</td>\n",
       "      <td>47120000.0</td>\n",
       "      <td>7000.0</td>\n",
       "      <td>0.014858</td>\n",
       "    </tr>\n",
       "    <tr>\n",
       "      <th>385</th>\n",
       "      <td>47100000.0</td>\n",
       "      <td>47089000.0</td>\n",
       "      <td>-11000.0</td>\n",
       "      <td>-0.023355</td>\n",
       "    </tr>\n",
       "    <tr>\n",
       "      <th>386</th>\n",
       "      <td>47318000.0</td>\n",
       "      <td>47206000.0</td>\n",
       "      <td>-112000.0</td>\n",
       "      <td>-0.236696</td>\n",
       "    </tr>\n",
       "    <tr>\n",
       "      <th>387</th>\n",
       "      <td>47124000.0</td>\n",
       "      <td>47135000.0</td>\n",
       "      <td>11000.0</td>\n",
       "      <td>0.023343</td>\n",
       "    </tr>\n",
       "    <tr>\n",
       "      <th>388</th>\n",
       "      <td>47057000.0</td>\n",
       "      <td>47048000.0</td>\n",
       "      <td>-9000.0</td>\n",
       "      <td>-0.019126</td>\n",
       "    </tr>\n",
       "  </tbody>\n",
       "</table>\n",
       "<p>389 rows × 4 columns</p>\n",
       "</div>"
      ],
      "text/plain": [
       "            buy        sell    profit  profit_rate\n",
       "0    21429000.0  21453000.0   24000.0     0.111998\n",
       "1    21428000.0  21460000.0   32000.0     0.149337\n",
       "2    21451000.0  21450000.0   -1000.0    -0.004662\n",
       "3    21443000.0  21454000.0   11000.0     0.051299\n",
       "4    21445000.0  21449000.0    4000.0     0.018652\n",
       "..          ...         ...       ...          ...\n",
       "384  47113000.0  47120000.0    7000.0     0.014858\n",
       "385  47100000.0  47089000.0  -11000.0    -0.023355\n",
       "386  47318000.0  47206000.0 -112000.0    -0.236696\n",
       "387  47124000.0  47135000.0   11000.0     0.023343\n",
       "388  47057000.0  47048000.0   -9000.0    -0.019126\n",
       "\n",
       "[389 rows x 4 columns]"
      ]
     },
     "execution_count": 398,
     "metadata": {},
     "output_type": "execute_result"
    }
   ],
   "source": [
    "# 업비트가 바이낸스보다 가격이 낮다면 저평가로 보고 매수, 업비트가 바이낸스보다 높아졌다면 다시 매도를 반복하는 전략의 유효성 평가\n",
    "ub_won_cleaned_copy = u_b_won_cleaned.copy()\n",
    "\n",
    "ub_won_cleaned_copy.loc[ub_won_cleaned_copy['diff'] < 0, 'buho'] = '-'\n",
    "ub_won_cleaned_copy.loc[ub_won_cleaned_copy['diff'] >= 0, 'buho'] = '+'\n",
    "ub_won_cleaned_copy['shift_buho'] = ub_won_cleaned_copy['buho'].shift(-1)\n",
    "\n",
    "ub_won_cleaned_copy.loc[(ub_won_cleaned_copy['buho'] == '+') & (ub_won_cleaned_copy['shift_buho'] == '-'), 'buy_sell'] = 'buy'\n",
    "ub_won_cleaned_copy.loc[(ub_won_cleaned_copy['buho'] == '-') & (ub_won_cleaned_copy['shift_buho'] == '+'), 'buy_sell'] = 'sell'\n",
    "\n",
    "ub_won_cleaned_copy['buy_sell'] = ub_won_cleaned_copy['buy_sell'].shift()\n",
    "\n",
    "a = ub_won_cleaned_copy.loc[ub_won_cleaned_copy['buy_sell'] == 'buy', 'U'].to_frame().rename(columns={'U': 'buy'}).reset_index(drop=True)\n",
    "b = ub_won_cleaned_copy.loc[ub_won_cleaned_copy['buy_sell'] == 'sell', 'U'].to_frame().rename(columns={'U': 'sell'}).reset_index(drop=True)\n",
    "\n",
    "strategy = pd.concat([a,b], axis=1)\n",
    "strategy['profit'] = strategy['sell'] - strategy['buy']\n",
    "strategy['profit_rate'] = (strategy['profit'] / strategy['buy']) * 100\n",
    "\n",
    "strategy"
   ]
  },
  {
   "cell_type": "code",
   "execution_count": 366,
   "id": "7c7d7734-57ac-4168-bac3-30671c9e2601",
   "metadata": {},
   "outputs": [
    {
     "data": {
      "text/plain": [
       "0.09580858009489583"
      ]
     },
     "execution_count": 366,
     "metadata": {},
     "output_type": "execute_result"
    }
   ],
   "source": [
    "strategy['profit_rate'].mean() # 평균 수익률(%)"
   ]
  },
  {
   "cell_type": "code",
   "execution_count": 425,
   "id": "d4bb0fc6-8f26-48fd-8288-c08146906098",
   "metadata": {},
   "outputs": [
    {
     "data": {
      "image/png": "[encoded data removed]",
      "text/plain": [
       "<Figure size 1000x600 with 1 Axes>"
      ]
     },
     "metadata": {},
     "output_type": "display_data"
    }
   ],
   "source": [
    "idx = ub_won_cleaned_copy.loc[ub_won_cleaned_copy['buy_sell'] == 'sell', 'datetime'].tolist()\n",
    "idx.insert(0, idx[0])\n",
    "\n",
    "temp = pd.concat([pd.Series([1]), (strategy['profit_rate']/100+1).cumprod()])\n",
    "temp.index = idx\n",
    "\n",
    "plt.figure(figsize=(10, 6))\n",
    "temp.plot(label='balance(upbit)', color='purple')\n",
    "plt.ylabel('balance')\n",
    "plt.title('<김치프리미엄을 이용한 투자 전략 사용시 잔고 변화 (초기 투자 1원)>')\n",
    "plt.legend()\n",
    "plt.show()"
   ]
  },
  {
   "cell_type": "code",
   "execution_count": 419,
   "id": "e4a2c63a-dcd6-4000-b44b-75308ec74167",
   "metadata": {},
   "outputs": [
    {
     "data": {
      "text/plain": [
       "43.2991386687666"
      ]
     },
     "execution_count": 419,
     "metadata": {},
     "output_type": "execute_result"
    }
   ],
   "source": [
    "((1 + strategy['profit_rate']/100).prod() -1) * 100  # 누적 수익률"
   ]
  },
  {
   "cell_type": "code",
   "execution_count": 370,
   "id": "88c7e91c-a68a-499c-bcf2-213b73672e89",
   "metadata": {},
   "outputs": [
    {
     "data": {
      "text/plain": [
       "119.55294227448785"
      ]
     },
     "execution_count": 370,
     "metadata": {},
     "output_type": "execute_result"
    }
   ],
   "source": [
    "((strategy['sell'].iloc[-1] - strategy['buy'].iloc[0]) / strategy['buy'].iloc[0]) * 100 # 단순 홀딩 수익률"
   ]
  },
  {
   "cell_type": "code",
   "execution_count": 430,
   "id": "21ff8c16-71c9-4406-838b-ae7715c98798",
   "metadata": {},
   "outputs": [
    {
     "data": {
      "text/html": [
       "<div>\n",
       "<style scoped>\n",
       "    .dataframe tbody tr th:only-of-type {\n",
       "        vertical-align: middle;\n",
       "    }\n",
       "\n",
       "    .dataframe tbody tr th {\n",
       "        vertical-align: top;\n",
       "    }\n",
       "\n",
       "    .dataframe thead th {\n",
       "        text-align: right;\n",
       "    }\n",
       "</style>\n",
       "<table border=\"1\" class=\"dataframe\">\n",
       "  <thead>\n",
       "    <tr style=\"text-align: right;\">\n",
       "      <th></th>\n",
       "      <th>buy</th>\n",
       "      <th>sell</th>\n",
       "      <th>profit</th>\n",
       "      <th>profit_rate</th>\n",
       "    </tr>\n",
       "  </thead>\n",
       "  <tbody>\n",
       "    <tr>\n",
       "      <th>0</th>\n",
       "      <td>2.143332e+07</td>\n",
       "      <td>2.145213e+07</td>\n",
       "      <td>-24000.0</td>\n",
       "      <td>-0.111877</td>\n",
       "    </tr>\n",
       "    <tr>\n",
       "      <th>1</th>\n",
       "      <td>2.144065e+07</td>\n",
       "      <td>2.144571e+07</td>\n",
       "      <td>-32000.0</td>\n",
       "      <td>-0.149214</td>\n",
       "    </tr>\n",
       "    <tr>\n",
       "      <th>2</th>\n",
       "      <td>2.145482e+07</td>\n",
       "      <td>2.144693e+07</td>\n",
       "      <td>1000.0</td>\n",
       "      <td>0.004663</td>\n",
       "    </tr>\n",
       "    <tr>\n",
       "      <th>3</th>\n",
       "      <td>2.144516e+07</td>\n",
       "      <td>2.145103e+07</td>\n",
       "      <td>-11000.0</td>\n",
       "      <td>-0.051280</td>\n",
       "    </tr>\n",
       "    <tr>\n",
       "      <th>4</th>\n",
       "      <td>2.144833e+07</td>\n",
       "      <td>2.144795e+07</td>\n",
       "      <td>-4000.0</td>\n",
       "      <td>-0.018650</td>\n",
       "    </tr>\n",
       "    <tr>\n",
       "      <th>...</th>\n",
       "      <td>...</td>\n",
       "      <td>...</td>\n",
       "      <td>...</td>\n",
       "      <td>...</td>\n",
       "    </tr>\n",
       "    <tr>\n",
       "      <th>384</th>\n",
       "      <td>4.715523e+07</td>\n",
       "      <td>4.711685e+07</td>\n",
       "      <td>-7000.0</td>\n",
       "      <td>-0.014857</td>\n",
       "    </tr>\n",
       "    <tr>\n",
       "      <th>385</th>\n",
       "      <td>4.710406e+07</td>\n",
       "      <td>4.704930e+07</td>\n",
       "      <td>11000.0</td>\n",
       "      <td>0.023380</td>\n",
       "    </tr>\n",
       "    <tr>\n",
       "      <th>386</th>\n",
       "      <td>4.738849e+07</td>\n",
       "      <td>4.720350e+07</td>\n",
       "      <td>112000.0</td>\n",
       "      <td>0.237271</td>\n",
       "    </tr>\n",
       "    <tr>\n",
       "      <th>387</th>\n",
       "      <td>4.715294e+07</td>\n",
       "      <td>4.713355e+07</td>\n",
       "      <td>-11000.0</td>\n",
       "      <td>-0.023338</td>\n",
       "    </tr>\n",
       "    <tr>\n",
       "      <th>388</th>\n",
       "      <td>4.708471e+07</td>\n",
       "      <td>4.704789e+07</td>\n",
       "      <td>9000.0</td>\n",
       "      <td>0.019129</td>\n",
       "    </tr>\n",
       "  </tbody>\n",
       "</table>\n",
       "<p>389 rows × 4 columns</p>\n",
       "</div>"
      ],
      "text/plain": [
       "              buy          sell    profit  profit_rate\n",
       "0    2.143332e+07  2.145213e+07  -24000.0    -0.111877\n",
       "1    2.144065e+07  2.144571e+07  -32000.0    -0.149214\n",
       "2    2.145482e+07  2.144693e+07    1000.0     0.004663\n",
       "3    2.144516e+07  2.145103e+07  -11000.0    -0.051280\n",
       "4    2.144833e+07  2.144795e+07   -4000.0    -0.018650\n",
       "..            ...           ...       ...          ...\n",
       "384  4.715523e+07  4.711685e+07   -7000.0    -0.014857\n",
       "385  4.710406e+07  4.704930e+07   11000.0     0.023380\n",
       "386  4.738849e+07  4.720350e+07  112000.0     0.237271\n",
       "387  4.715294e+07  4.713355e+07  -11000.0    -0.023338\n",
       "388  4.708471e+07  4.704789e+07    9000.0     0.019129\n",
       "\n",
       "[389 rows x 4 columns]"
      ]
     },
     "execution_count": 430,
     "metadata": {},
     "output_type": "execute_result"
    }
   ],
   "source": [
    "# 바이낸스 공매도\n",
    "a = ub_won_cleaned_copy.loc[ub_won_cleaned_copy['buy_sell'] == 'buy', 'B'].to_frame().rename(columns={'B': 'buy'}).reset_index(drop=True) \n",
    "b = ub_won_cleaned_copy.loc[ub_won_cleaned_copy['buy_sell'] == 'sell', 'B'].to_frame().rename(columns={'B': 'sell'}).reset_index(drop=True)\n",
    "\n",
    "strategy2 = pd.concat([a,b], axis=1)\n",
    "strategy2['profit'] = strategy['buy'] - strategy['sell'] # 공매도 이므로 반대로\n",
    "strategy2['profit_rate'] = (strategy2['profit'] / strategy2['sell']) * 100\n",
    "\n",
    "strategy2"
   ]
  },
  {
   "cell_type": "code",
   "execution_count": 374,
   "id": "a7f4d3e5-4520-4d65-a996-a6a187ed344d",
   "metadata": {},
   "outputs": [
    {
     "data": {
      "text/plain": [
       "-0.08942185192853679"
      ]
     },
     "execution_count": 374,
     "metadata": {},
     "output_type": "execute_result"
    }
   ],
   "source": [
    "strategy2['profit_rate'].mean() # 평균 수익률"
   ]
  },
  {
   "cell_type": "code",
   "execution_count": 431,
   "id": "e00fbbe2-e5c8-4592-bc35-25ef39d684cb",
   "metadata": {},
   "outputs": [
    {
     "data": {
      "image/png": "[encoded data removed]",
      "text/plain": [
       "<Figure size 1000x600 with 1 Axes>"
      ]
     },
     "metadata": {},
     "output_type": "display_data"
    }
   ],
   "source": [
    "temp2 = pd.concat([pd.Series([1]), (strategy2['profit_rate']/100+1).cumprod()])\n",
    "temp2.index = idx\n",
    "\n",
    "plt.figure(figsize=(10, 6))\n",
    "temp2.plot(label='balance(binance)', color='brown')\n",
    "plt.ylabel('balance')\n",
    "plt.legend()\n",
    "plt.title('<김치프리미엄을 이용한 투자 전략 사용시 잔고 변화 (초기 투자 1원)>')\n",
    "plt.show()"
   ]
  },
  {
   "cell_type": "code",
   "execution_count": 418,
   "id": "b3b11871-ee60-4d49-9982-20f44720eaf0",
   "metadata": {},
   "outputs": [
    {
     "data": {
      "text/plain": [
       "-30.23761712396257"
      ]
     },
     "execution_count": 418,
     "metadata": {},
     "output_type": "execute_result"
    }
   ],
   "source": [
    "# ((1 + strategy2['profit_rate']/100).cumprod() - 1).iloc[-1] # 누적 수익률\n",
    "((1 + strategy2['profit_rate']/100).prod() -1) * 100 # 누적 수익률"
   ]
  },
  {
   "cell_type": "code",
   "execution_count": 377,
   "id": "e94fd46f-4092-47fe-9001-027899187207",
   "metadata": {},
   "outputs": [
    {
     "data": {
      "text/plain": [
       "119.50822264938523"
      ]
     },
     "execution_count": 377,
     "metadata": {},
     "output_type": "execute_result"
    }
   ],
   "source": [
    "((strategy2['sell'].iloc[-1] - strategy2['buy'].iloc[0]) / strategy2['buy'].iloc[0]) * 100 # 단순 홀딩 수익률"
   ]
  },
  {
   "cell_type": "markdown",
   "id": "e4861f88-1e2a-467b-8b17-0df73a589266",
   "metadata": {},
   "source": [
    "## 2022년 데이터 받아오기"
   ]
  },
  {
   "cell_type": "code",
   "execution_count": 432,
   "id": "bef8005c-7240-49da-ae55-54fc43fe418e",
   "metadata": {},
   "outputs": [
    {
     "data": {
      "text/html": [
       "<div>\n",
       "<style scoped>\n",
       "    .dataframe tbody tr th:only-of-type {\n",
       "        vertical-align: middle;\n",
       "    }\n",
       "\n",
       "    .dataframe tbody tr th {\n",
       "        vertical-align: top;\n",
       "    }\n",
       "\n",
       "    .dataframe thead th {\n",
       "        text-align: right;\n",
       "    }\n",
       "</style>\n",
       "<table border=\"1\" class=\"dataframe\">\n",
       "  <thead>\n",
       "    <tr style=\"text-align: right;\">\n",
       "      <th></th>\n",
       "      <th>Open time</th>\n",
       "      <th>Open</th>\n",
       "      <th>High</th>\n",
       "      <th>Low</th>\n",
       "      <th>Close</th>\n",
       "      <th>Volume</th>\n",
       "      <th>Close time</th>\n",
       "      <th>Quote asset volume</th>\n",
       "      <th>Number of trades</th>\n",
       "      <th>Taker buy base asset volume</th>\n",
       "      <th>Taker buy quote asset volume</th>\n",
       "      <th>Ignore</th>\n",
       "    </tr>\n",
       "  </thead>\n",
       "  <tbody>\n",
       "    <tr>\n",
       "      <th>0</th>\n",
       "      <td>2022-01-01 00:00:00</td>\n",
       "      <td>46216.93000000</td>\n",
       "      <td>46391.49000000</td>\n",
       "      <td>46208.37000000</td>\n",
       "      <td>46321.34000000</td>\n",
       "      <td>185.67558000</td>\n",
       "      <td>1640995499999</td>\n",
       "      <td>8598314.37243310</td>\n",
       "      <td>4551</td>\n",
       "      <td>106.54655000</td>\n",
       "      <td>4933083.00041560</td>\n",
       "      <td>0</td>\n",
       "    </tr>\n",
       "    <tr>\n",
       "      <th>1</th>\n",
       "      <td>2022-01-01 00:05:00</td>\n",
       "      <td>46321.34000000</td>\n",
       "      <td>46527.26000000</td>\n",
       "      <td>46280.00000000</td>\n",
       "      <td>46371.11000000</td>\n",
       "      <td>123.43577000</td>\n",
       "      <td>1640995799999</td>\n",
       "      <td>5730874.56741150</td>\n",
       "      <td>3937</td>\n",
       "      <td>61.10408000</td>\n",
       "      <td>2836663.58464160</td>\n",
       "      <td>0</td>\n",
       "    </tr>\n",
       "    <tr>\n",
       "      <th>2</th>\n",
       "      <td>2022-01-01 00:10:00</td>\n",
       "      <td>46369.79000000</td>\n",
       "      <td>46394.00000000</td>\n",
       "      <td>46276.22000000</td>\n",
       "      <td>46332.51000000</td>\n",
       "      <td>77.54574000</td>\n",
       "      <td>1640996099999</td>\n",
       "      <td>3592815.53605050</td>\n",
       "      <td>2616</td>\n",
       "      <td>42.93039000</td>\n",
       "      <td>1988818.47978590</td>\n",
       "      <td>0</td>\n",
       "    </tr>\n",
       "    <tr>\n",
       "      <th>3</th>\n",
       "      <td>2022-01-01 00:15:00</td>\n",
       "      <td>46332.52000000</td>\n",
       "      <td>46332.52000000</td>\n",
       "      <td>46236.27000000</td>\n",
       "      <td>46293.90000000</td>\n",
       "      <td>101.14315000</td>\n",
       "      <td>1640996399999</td>\n",
       "      <td>4682187.43640540</td>\n",
       "      <td>3065</td>\n",
       "      <td>65.58819000</td>\n",
       "      <td>3036235.33338720</td>\n",
       "      <td>0</td>\n",
       "    </tr>\n",
       "    <tr>\n",
       "      <th>4</th>\n",
       "      <td>2022-01-01 00:20:00</td>\n",
       "      <td>46295.42000000</td>\n",
       "      <td>46421.27000000</td>\n",
       "      <td>46286.25000000</td>\n",
       "      <td>46395.53000000</td>\n",
       "      <td>135.32479000</td>\n",
       "      <td>1640996699999</td>\n",
       "      <td>6273259.96518860</td>\n",
       "      <td>3316</td>\n",
       "      <td>69.99001000</td>\n",
       "      <td>3244492.90582900</td>\n",
       "      <td>0</td>\n",
       "    </tr>\n",
       "  </tbody>\n",
       "</table>\n",
       "</div>"
      ],
      "text/plain": [
       "            Open time            Open            High             Low  \\\n",
       "0 2022-01-01 00:00:00  46216.93000000  46391.49000000  46208.37000000   \n",
       "1 2022-01-01 00:05:00  46321.34000000  46527.26000000  46280.00000000   \n",
       "2 2022-01-01 00:10:00  46369.79000000  46394.00000000  46276.22000000   \n",
       "3 2022-01-01 00:15:00  46332.52000000  46332.52000000  46236.27000000   \n",
       "4 2022-01-01 00:20:00  46295.42000000  46421.27000000  46286.25000000   \n",
       "\n",
       "            Close        Volume     Close time Quote asset volume  \\\n",
       "0  46321.34000000  185.67558000  1640995499999   8598314.37243310   \n",
       "1  46371.11000000  123.43577000  1640995799999   5730874.56741150   \n",
       "2  46332.51000000   77.54574000  1640996099999   3592815.53605050   \n",
       "3  46293.90000000  101.14315000  1640996399999   4682187.43640540   \n",
       "4  46395.53000000  135.32479000  1640996699999   6273259.96518860   \n",
       "\n",
       "   Number of trades Taker buy base asset volume Taker buy quote asset volume  \\\n",
       "0              4551                106.54655000             4933083.00041560   \n",
       "1              3937                 61.10408000             2836663.58464160   \n",
       "2              2616                 42.93039000             1988818.47978590   \n",
       "3              3065                 65.58819000             3036235.33338720   \n",
       "4              3316                 69.99001000             3244492.90582900   \n",
       "\n",
       "  Ignore  \n",
       "0      0  \n",
       "1      0  \n",
       "2      0  \n",
       "3      0  \n",
       "4      0  "
      ]
     },
     "execution_count": 432,
     "metadata": {},
     "output_type": "execute_result"
    }
   ],
   "source": [
    "# 바이낸스\n",
    "from binance.client import Client\n",
    "\n",
    "api_key = 'chvrgehW025fs9GMMbc301xLE32fGBQFFqeiHPxGaU9bzlZC0SxhZAJdSwX6IZRX'\n",
    "api_secret = 'obYhSuVrsvR7vCzJUSRlLQOKyKf7WzkGsGGBZcsZrjgkQQakpdrZ57Dvt4TLEATR'\n",
    "client = Client(api_key=api_key, api_secret=api_secret)\n",
    "\n",
    "minute = client.get_historical_klines(\n",
    "    symbol='BTCUSDT',\n",
    "    interval='5m',\n",
    "    start_str='2022-01-01',\n",
    "    end_str='2023-01-01'\n",
    "    # limit=200 # max = 1000\n",
    ")\n",
    "minute\n",
    "\n",
    "columns = ['Open time',\n",
    "'Open',\n",
    "'High',\n",
    "'Low',\n",
    "'Close',\n",
    "'Volume',\n",
    "'Close time',\n",
    "'Quote asset volume',\n",
    "'Number of trades',\n",
    "'Taker buy base asset volume',\n",
    "'Taker buy quote asset volume',\n",
    "'Ignore']\n",
    "\n",
    "binance = pd.DataFrame(minute, columns=columns)\n",
    "binance['Open time'] = pd.to_datetime(binance['Open time'], unit='ms')\n",
    "binance.head()"
   ]
  },
  {
   "cell_type": "code",
   "execution_count": 3,
   "id": "efb3b46e-04ec-40e5-8baf-e30703447da1",
   "metadata": {},
   "outputs": [],
   "source": [
    "money = pd.read_excel('DATA/2022환율.xlsx')\n",
    "money = money[['일자', '기준환율']]"
   ]
  },
  {
   "cell_type": "code",
   "execution_count": 4,
   "id": "1f704325-4151-476f-9e12-621ffab15262",
   "metadata": {},
   "outputs": [],
   "source": [
    "start_date = '2022-01-01'\n",
    "end_date = '2022-12-31'\n",
    "\n",
    "# 기간의 모든 날짜 생성\n",
    "date_range = pd.date_range(start=start_date, end=end_date)\n",
    "\n",
    "# 데이터 프레임에 날짜 채워넣기\n",
    "df_date = pd.DataFrame(date_range, columns=['일자'])\n",
    "\n",
    "# 원하는 형식으로 날짜 변환 (옵션)\n",
    "df_date['일자'] = df_date['일자'].dt.strftime('%Y.%m.%d')"
   ]
  },
  {
   "cell_type": "code",
   "execution_count": 5,
   "id": "c7a8e366-cfac-410d-8dd1-7fb086cd14b3",
   "metadata": {},
   "outputs": [],
   "source": [
    "# 모든 일자 데이터에 money 데이터 병합\n",
    "money = df_date.merge(money, on='일자', how='left')"
   ]
  },
  {
   "cell_type": "code",
   "execution_count": 6,
   "id": "c7efc045-fed5-46b5-85c7-e3f6841f5939",
   "metadata": {},
   "outputs": [],
   "source": [
    "money['기준환율'] = money['기준환율'].ffill().bfill()"
   ]
  },
  {
   "cell_type": "code",
   "execution_count": 7,
   "id": "b5bdebc0-08f3-47ca-ba5a-ab58d497c272",
   "metadata": {},
   "outputs": [
    {
     "name": "stdout",
     "output_type": "stream",
     "text": [
      "<class 'pandas.core.frame.DataFrame'>\n",
      "RangeIndex: 365 entries, 0 to 364\n",
      "Data columns (total 2 columns):\n",
      " #   Column  Non-Null Count  Dtype  \n",
      "---  ------  --------------  -----  \n",
      " 0   일자      365 non-null    object \n",
      " 1   기준환율    365 non-null    float64\n",
      "dtypes: float64(1), object(1)\n",
      "memory usage: 5.8+ KB\n"
     ]
    }
   ],
   "source": [
    "money.info()"
   ]
  },
  {
   "cell_type": "code",
   "execution_count": 459,
   "id": "f04598b9-62f0-4d73-b9bd-f5045901ff4f",
   "metadata": {},
   "outputs": [],
   "source": [
    "binance.to_csv('DATA/Binance_2022.csv', index=False)"
   ]
  },
  {
   "cell_type": "code",
   "execution_count": 8,
   "id": "4d42c2f9-5e5c-4180-b5b5-de7f901856aa",
   "metadata": {},
   "outputs": [],
   "source": [
    "binance = pd.read_csv('DATA/Binance_2022.csv')"
   ]
  },
  {
   "cell_type": "code",
   "execution_count": 9,
   "id": "0c2069b7-9725-4a4f-a8f1-c88622656ef8",
   "metadata": {},
   "outputs": [],
   "source": [
    "binance['Open time'] = pd.to_datetime(binance['Open time'])"
   ]
  },
  {
   "cell_type": "code",
   "execution_count": 10,
   "id": "85e9d203-061d-45dc-b352-6b5de8ae282d",
   "metadata": {},
   "outputs": [
    {
     "data": {
      "text/html": [
       "<div>\n",
       "<style scoped>\n",
       "    .dataframe tbody tr th:only-of-type {\n",
       "        vertical-align: middle;\n",
       "    }\n",
       "\n",
       "    .dataframe tbody tr th {\n",
       "        vertical-align: top;\n",
       "    }\n",
       "\n",
       "    .dataframe thead th {\n",
       "        text-align: right;\n",
       "    }\n",
       "</style>\n",
       "<table border=\"1\" class=\"dataframe\">\n",
       "  <thead>\n",
       "    <tr style=\"text-align: right;\">\n",
       "      <th></th>\n",
       "      <th>datetime</th>\n",
       "      <th>Binance_won</th>\n",
       "    </tr>\n",
       "  </thead>\n",
       "  <tbody>\n",
       "    <tr>\n",
       "      <th>0</th>\n",
       "      <td>2022-01-01 00:00:00</td>\n",
       "      <td>5.491395e+07</td>\n",
       "    </tr>\n",
       "    <tr>\n",
       "      <th>1</th>\n",
       "      <td>2022-01-01 00:05:00</td>\n",
       "      <td>5.497295e+07</td>\n",
       "    </tr>\n",
       "    <tr>\n",
       "      <th>2</th>\n",
       "      <td>2022-01-01 00:10:00</td>\n",
       "      <td>5.492719e+07</td>\n",
       "    </tr>\n",
       "    <tr>\n",
       "      <th>3</th>\n",
       "      <td>2022-01-01 00:15:00</td>\n",
       "      <td>5.488142e+07</td>\n",
       "    </tr>\n",
       "    <tr>\n",
       "      <th>4</th>\n",
       "      <td>2022-01-01 00:20:00</td>\n",
       "      <td>5.500190e+07</td>\n",
       "    </tr>\n",
       "  </tbody>\n",
       "</table>\n",
       "</div>"
      ],
      "text/plain": [
       "             datetime   Binance_won\n",
       "0 2022-01-01 00:00:00  5.491395e+07\n",
       "1 2022-01-01 00:05:00  5.497295e+07\n",
       "2 2022-01-01 00:10:00  5.492719e+07\n",
       "3 2022-01-01 00:15:00  5.488142e+07\n",
       "4 2022-01-01 00:20:00  5.500190e+07"
      ]
     },
     "execution_count": 10,
     "metadata": {},
     "output_type": "execute_result"
    }
   ],
   "source": [
    "# 바이낸스 데이터 원화로 변경하여 추출\n",
    "binance_adjust = binance[['Open time', 'Close']].rename(columns={'Open time': 'datetime'})\n",
    "binance_adjust['일자'] = binance_adjust['datetime'].dt.strftime('%Y.%m.%d')\n",
    "\n",
    "binance_merged = binance_adjust.merge(money, on='일자', how='left')\n",
    "\n",
    "binance_merged['Binance_won'] = binance_merged['Close'] * binance_merged['기준환율']\n",
    "binance_merged = binance_merged[['datetime', 'Binance_won']]\n",
    "\n",
    "binance_merged.head()"
   ]
  },
  {
   "cell_type": "code",
   "execution_count": 11,
   "id": "69eb557a-4b08-450b-816e-f68068095e50",
   "metadata": {},
   "outputs": [],
   "source": [
    "upbit = pd.read_csv('DATA/upbit_2022_krw_BTC.csv')\n",
    "upbit['datetime'] = pd.to_datetime(upbit['candle_date_time_utc'])"
   ]
  },
  {
   "cell_type": "code",
   "execution_count": 12,
   "id": "5a711daf-a403-426e-887b-99c6eb9dce3a",
   "metadata": {},
   "outputs": [
    {
     "data": {
      "text/html": [
       "<div>\n",
       "<style scoped>\n",
       "    .dataframe tbody tr th:only-of-type {\n",
       "        vertical-align: middle;\n",
       "    }\n",
       "\n",
       "    .dataframe tbody tr th {\n",
       "        vertical-align: top;\n",
       "    }\n",
       "\n",
       "    .dataframe thead th {\n",
       "        text-align: right;\n",
       "    }\n",
       "</style>\n",
       "<table border=\"1\" class=\"dataframe\">\n",
       "  <thead>\n",
       "    <tr style=\"text-align: right;\">\n",
       "      <th></th>\n",
       "      <th>datetime</th>\n",
       "      <th>U</th>\n",
       "      <th>B</th>\n",
       "    </tr>\n",
       "  </thead>\n",
       "  <tbody>\n",
       "    <tr>\n",
       "      <th>0</th>\n",
       "      <td>2022-01-01 00:00:00</td>\n",
       "      <td>56868000.0</td>\n",
       "      <td>5.491395e+07</td>\n",
       "    </tr>\n",
       "    <tr>\n",
       "      <th>1</th>\n",
       "      <td>2022-01-01 00:05:00</td>\n",
       "      <td>56878000.0</td>\n",
       "      <td>5.497295e+07</td>\n",
       "    </tr>\n",
       "    <tr>\n",
       "      <th>2</th>\n",
       "      <td>2022-01-01 00:10:00</td>\n",
       "      <td>56867000.0</td>\n",
       "      <td>5.492719e+07</td>\n",
       "    </tr>\n",
       "    <tr>\n",
       "      <th>3</th>\n",
       "      <td>2022-01-01 00:15:00</td>\n",
       "      <td>56770000.0</td>\n",
       "      <td>5.488142e+07</td>\n",
       "    </tr>\n",
       "    <tr>\n",
       "      <th>4</th>\n",
       "      <td>2022-01-01 00:20:00</td>\n",
       "      <td>56843000.0</td>\n",
       "      <td>5.500190e+07</td>\n",
       "    </tr>\n",
       "    <tr>\n",
       "      <th>...</th>\n",
       "      <td>...</td>\n",
       "      <td>...</td>\n",
       "      <td>...</td>\n",
       "    </tr>\n",
       "    <tr>\n",
       "      <th>105115</th>\n",
       "      <td>2022-12-31 23:35:00</td>\n",
       "      <td>21076000.0</td>\n",
       "      <td>2.096834e+07</td>\n",
       "    </tr>\n",
       "    <tr>\n",
       "      <th>105116</th>\n",
       "      <td>2022-12-31 23:40:00</td>\n",
       "      <td>21072000.0</td>\n",
       "      <td>2.096891e+07</td>\n",
       "    </tr>\n",
       "    <tr>\n",
       "      <th>105117</th>\n",
       "      <td>2022-12-31 23:45:00</td>\n",
       "      <td>21070000.0</td>\n",
       "      <td>2.095994e+07</td>\n",
       "    </tr>\n",
       "    <tr>\n",
       "      <th>105118</th>\n",
       "      <td>2022-12-31 23:50:00</td>\n",
       "      <td>21074000.0</td>\n",
       "      <td>2.096167e+07</td>\n",
       "    </tr>\n",
       "    <tr>\n",
       "      <th>105119</th>\n",
       "      <td>2022-12-31 23:55:00</td>\n",
       "      <td>21079000.0</td>\n",
       "      <td>2.096418e+07</td>\n",
       "    </tr>\n",
       "  </tbody>\n",
       "</table>\n",
       "<p>105120 rows × 3 columns</p>\n",
       "</div>"
      ],
      "text/plain": [
       "                  datetime           U             B\n",
       "0      2022-01-01 00:00:00  56868000.0  5.491395e+07\n",
       "1      2022-01-01 00:05:00  56878000.0  5.497295e+07\n",
       "2      2022-01-01 00:10:00  56867000.0  5.492719e+07\n",
       "3      2022-01-01 00:15:00  56770000.0  5.488142e+07\n",
       "4      2022-01-01 00:20:00  56843000.0  5.500190e+07\n",
       "...                    ...         ...           ...\n",
       "105115 2022-12-31 23:35:00  21076000.0  2.096834e+07\n",
       "105116 2022-12-31 23:40:00  21072000.0  2.096891e+07\n",
       "105117 2022-12-31 23:45:00  21070000.0  2.095994e+07\n",
       "105118 2022-12-31 23:50:00  21074000.0  2.096167e+07\n",
       "105119 2022-12-31 23:55:00  21079000.0  2.096418e+07\n",
       "\n",
       "[105120 rows x 3 columns]"
      ]
     },
     "execution_count": 12,
     "metadata": {},
     "output_type": "execute_result"
    }
   ],
   "source": [
    "upbit = upbit[['datetime', 'trade_price']]\n",
    "\n",
    "u_b_won = upbit.merge(binance_merged, on='datetime', how='left').rename(columns={'trade_price': 'U', 'Binance_won': 'B'})\n",
    "u_b_won"
   ]
  },
  {
   "cell_type": "code",
   "execution_count": null,
   "id": "55a7e59a-ecfe-4f79-9c34-f449e3ea8c7f",
   "metadata": {},
   "outputs": [],
   "source": [
    "u_b_won"
   ]
  }
 ],
 "metadata": {
  "kernelspec": {
   "display_name": "Python 3 (ipykernel)",
   "language": "python",
   "name": "python3"
  },
  "language_info": {
   "codemirror_mode": {
    "name": "ipython",
    "version": 3
   },
   "file_extension": ".py",
   "mimetype": "text/x-python",
   "name": "python",
   "nbconvert_exporter": "python",
   "pygments_lexer": "ipython3",
   "version": "3.11.5"
  }
 },
 "nbformat": 4,
 "nbformat_minor": 5
}
